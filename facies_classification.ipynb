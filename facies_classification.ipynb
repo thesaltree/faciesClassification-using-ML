{
  "nbformat": 4,
  "nbformat_minor": 0,
  "metadata": {
    "colab": {
      "provenance": []
    },
    "kernelspec": {
      "name": "python3",
      "display_name": "Python 3"
    },
    "accelerator": "GPU"
  },
  "cells": [
    {
      "cell_type": "code",
      "metadata": {
        "id": "U_8aiNu3bdsL",
        "outputId": "c33975fa-532b-47ed-a400-4f02cf4c0943",
        "colab": {
          "base_uri": "https://localhost:8080/"
        }
      },
      "source": [
        "from google.colab import drive\n",
        "drive.mount('/content/drive')"
      ],
      "execution_count": null,
      "outputs": [
        {
          "output_type": "stream",
          "text": [
            "Mounted at /content/drive\n"
          ],
          "name": "stdout"
        }
      ]
    },
    {
      "cell_type": "code",
      "metadata": {
        "id": "zUhde4kKbmWy"
      },
      "source": [
        "\n",
        "%matplotlib inline\n",
        "import pandas as pd\n",
        "import numpy as np\n",
        "import matplotlib as mpl\n",
        "import matplotlib.pyplot as plt\n",
        "import matplotlib.colors as colors\n",
        "import seaborn as sns\n",
        "from mpl_toolkits.axes_grid1 import make_axes_locatable\n",
        "from pandas import set_option\n",
        "set_option(\"display.max_rows\", 10)\n",
        "pd.options.mode.chained_assignment = None"
      ],
      "execution_count": null,
      "outputs": []
    },
    {
      "cell_type": "code",
      "metadata": {
        "id": "4pDSAndfb-ZN",
        "outputId": "dab257af-e23a-4f67-89da-c5c02c2641ce",
        "colab": {
          "base_uri": "https://localhost:8080/",
          "height": 415
        }
      },
      "source": [
        "\n",
        "# read data into python as dataframe \n",
        "dataset = 'drive/My Drive/prac/Participants_Data_TGIH/Participants_Data_TGIH/Train.csv'\n",
        "training_data = pd.read_csv(dataset)\n",
        "training_data"
      ],
      "execution_count": null,
      "outputs": [
        {
          "output_type": "execute_result",
          "data": {
            "text/html": [
              "<div>\n",
              "<style scoped>\n",
              "    .dataframe tbody tr th:only-of-type {\n",
              "        vertical-align: middle;\n",
              "    }\n",
              "\n",
              "    .dataframe tbody tr th {\n",
              "        vertical-align: top;\n",
              "    }\n",
              "\n",
              "    .dataframe thead th {\n",
              "        text-align: right;\n",
              "    }\n",
              "</style>\n",
              "<table border=\"1\" class=\"dataframe\">\n",
              "  <thead>\n",
              "    <tr style=\"text-align: right;\">\n",
              "      <th></th>\n",
              "      <th>InvoiceNo</th>\n",
              "      <th>StockCode</th>\n",
              "      <th>Description</th>\n",
              "      <th>Quantity</th>\n",
              "      <th>InvoiceDate</th>\n",
              "      <th>UnitPrice</th>\n",
              "      <th>CustomerID</th>\n",
              "      <th>Country</th>\n",
              "    </tr>\n",
              "  </thead>\n",
              "  <tbody>\n",
              "    <tr>\n",
              "      <th>0</th>\n",
              "      <td>6141</td>\n",
              "      <td>1583</td>\n",
              "      <td>144</td>\n",
              "      <td>3</td>\n",
              "      <td>2011-05-06 16:54:00</td>\n",
              "      <td>3.75</td>\n",
              "      <td>14056.0</td>\n",
              "      <td>35</td>\n",
              "    </tr>\n",
              "    <tr>\n",
              "      <th>1</th>\n",
              "      <td>6349</td>\n",
              "      <td>1300</td>\n",
              "      <td>3682</td>\n",
              "      <td>6</td>\n",
              "      <td>2011-05-11 07:35:00</td>\n",
              "      <td>1.95</td>\n",
              "      <td>13098.0</td>\n",
              "      <td>35</td>\n",
              "    </tr>\n",
              "    <tr>\n",
              "      <th>2</th>\n",
              "      <td>16783</td>\n",
              "      <td>2178</td>\n",
              "      <td>1939</td>\n",
              "      <td>4</td>\n",
              "      <td>2011-11-20 13:20:00</td>\n",
              "      <td>5.95</td>\n",
              "      <td>15044.0</td>\n",
              "      <td>35</td>\n",
              "    </tr>\n",
              "    <tr>\n",
              "      <th>3</th>\n",
              "      <td>16971</td>\n",
              "      <td>2115</td>\n",
              "      <td>2983</td>\n",
              "      <td>1</td>\n",
              "      <td>2011-11-22 12:07:00</td>\n",
              "      <td>0.83</td>\n",
              "      <td>15525.0</td>\n",
              "      <td>35</td>\n",
              "    </tr>\n",
              "    <tr>\n",
              "      <th>4</th>\n",
              "      <td>6080</td>\n",
              "      <td>1210</td>\n",
              "      <td>2886</td>\n",
              "      <td>12</td>\n",
              "      <td>2011-05-06 09:00:00</td>\n",
              "      <td>1.65</td>\n",
              "      <td>13952.0</td>\n",
              "      <td>35</td>\n",
              "    </tr>\n",
              "    <tr>\n",
              "      <th>...</th>\n",
              "      <td>...</td>\n",
              "      <td>...</td>\n",
              "      <td>...</td>\n",
              "      <td>...</td>\n",
              "      <td>...</td>\n",
              "      <td>...</td>\n",
              "      <td>...</td>\n",
              "      <td>...</td>\n",
              "    </tr>\n",
              "    <tr>\n",
              "      <th>284775</th>\n",
              "      <td>3408</td>\n",
              "      <td>1706</td>\n",
              "      <td>1081</td>\n",
              "      <td>6</td>\n",
              "      <td>2011-03-01 12:07:00</td>\n",
              "      <td>1.65</td>\n",
              "      <td>17965.0</td>\n",
              "      <td>35</td>\n",
              "    </tr>\n",
              "    <tr>\n",
              "      <th>284776</th>\n",
              "      <td>13982</td>\n",
              "      <td>2184</td>\n",
              "      <td>2947</td>\n",
              "      <td>16</td>\n",
              "      <td>2011-10-13 15:08:00</td>\n",
              "      <td>0.65</td>\n",
              "      <td>16793.0</td>\n",
              "      <td>35</td>\n",
              "    </tr>\n",
              "    <tr>\n",
              "      <th>284777</th>\n",
              "      <td>6641</td>\n",
              "      <td>667</td>\n",
              "      <td>3632</td>\n",
              "      <td>4</td>\n",
              "      <td>2011-05-16 12:59:00</td>\n",
              "      <td>8.50</td>\n",
              "      <td>14755.0</td>\n",
              "      <td>35</td>\n",
              "    </tr>\n",
              "    <tr>\n",
              "      <th>284778</th>\n",
              "      <td>13820</td>\n",
              "      <td>1576</td>\n",
              "      <td>3089</td>\n",
              "      <td>48</td>\n",
              "      <td>2011-10-11 14:18:00</td>\n",
              "      <td>3.45</td>\n",
              "      <td>14866.0</td>\n",
              "      <td>35</td>\n",
              "    </tr>\n",
              "    <tr>\n",
              "      <th>284779</th>\n",
              "      <td>11042</td>\n",
              "      <td>2603</td>\n",
              "      <td>1156</td>\n",
              "      <td>2</td>\n",
              "      <td>2011-08-22 13:30:00</td>\n",
              "      <td>0.75</td>\n",
              "      <td>17585.0</td>\n",
              "      <td>35</td>\n",
              "    </tr>\n",
              "  </tbody>\n",
              "</table>\n",
              "<p>284780 rows × 8 columns</p>\n",
              "</div>"
            ],
            "text/plain": [
              "        InvoiceNo  StockCode  Description  ...  UnitPrice CustomerID  Country\n",
              "0            6141       1583          144  ...       3.75    14056.0       35\n",
              "1            6349       1300         3682  ...       1.95    13098.0       35\n",
              "2           16783       2178         1939  ...       5.95    15044.0       35\n",
              "3           16971       2115         2983  ...       0.83    15525.0       35\n",
              "4            6080       1210         2886  ...       1.65    13952.0       35\n",
              "...           ...        ...          ...  ...        ...        ...      ...\n",
              "284775       3408       1706         1081  ...       1.65    17965.0       35\n",
              "284776      13982       2184         2947  ...       0.65    16793.0       35\n",
              "284777       6641        667         3632  ...       8.50    14755.0       35\n",
              "284778      13820       1576         3089  ...       3.45    14866.0       35\n",
              "284779      11042       2603         1156  ...       0.75    17585.0       35\n",
              "\n",
              "[284780 rows x 8 columns]"
            ]
          },
          "metadata": {
            "tags": []
          },
          "execution_count": 4
        }
      ]
    },
    {
      "cell_type": "code",
      "metadata": {
        "id": "0mCcMk5hcEND",
        "outputId": "2768d8cb-4adb-472a-aab7-f0588785cfba",
        "colab": {
          "base_uri": "https://localhost:8080/",
          "height": 69
        }
      },
      "source": [
        "\n",
        "training_data['Well Name'] = training_data['Well Name'].astype('category')\n",
        "training_data['Formation'] = training_data['Formation'].astype('category')\n",
        "training_data['Well Name'].unique()"
      ],
      "execution_count": null,
      "outputs": [
        {
          "output_type": "execute_result",
          "data": {
            "text/plain": [
              "[SHRIMPLIN, ALEXANDER D, SHANKLE, LUKE G U, KIMZEY A, CROSS H CATTLE, NOLAN, Recruit F9, NEWBY, CHURCHMAN BIBLE]\n",
              "Categories (10, object): [SHRIMPLIN, ALEXANDER D, SHANKLE, LUKE G U, ..., NOLAN, Recruit F9, NEWBY,\n",
              "                          CHURCHMAN BIBLE]"
            ]
          },
          "metadata": {
            "tags": []
          },
          "execution_count": 4
        }
      ]
    },
    {
      "cell_type": "code",
      "metadata": {
        "id": "U6bhmafocH2t"
      },
      "source": [
        "\n",
        "facies_colors = ['#F4D03F', '#F5B041','#DC7633','#6E2C00',\n",
        "       '#1B4F72','#2E86C1', '#AED6F1', '#A569BD', '#196F3D']\n",
        "\n",
        "facies_labels = ['SS', 'CSiS', 'FSiS', 'SiSh', 'MS',\n",
        "                 'WS', 'D','PS', 'BS']\n",
        "#facies_color_map is a dictionary that maps facies labels to their respective colors\n",
        "facies_color_map = {}\n",
        "for ind, label in enumerate(facies_labels):\n",
        "    facies_color_map[label] = facies_colors[ind]\n",
        "\n",
        "def label_facies(row, labels):\n",
        "    return labels[ row['Facies'] -1]\n",
        "    \n",
        "training_data.loc[:,'FaciesLabels'] = training_data.apply(lambda row: label_facies(row, facies_labels), axis=1)"
      ],
      "execution_count": null,
      "outputs": []
    },
    {
      "cell_type": "code",
      "metadata": {
        "id": "6f52H-MtcLuC",
        "outputId": "e9d8d070-3097-4a0a-bd30-14fe09811f49",
        "colab": {
          "base_uri": "https://localhost:8080/",
          "height": 294
        }
      },
      "source": [
        "training_data.describe()"
      ],
      "execution_count": null,
      "outputs": [
        {
          "output_type": "execute_result",
          "data": {
            "text/html": [
              "<div>\n",
              "<style scoped>\n",
              "    .dataframe tbody tr th:only-of-type {\n",
              "        vertical-align: middle;\n",
              "    }\n",
              "\n",
              "    .dataframe tbody tr th {\n",
              "        vertical-align: top;\n",
              "    }\n",
              "\n",
              "    .dataframe thead th {\n",
              "        text-align: right;\n",
              "    }\n",
              "</style>\n",
              "<table border=\"1\" class=\"dataframe\">\n",
              "  <thead>\n",
              "    <tr style=\"text-align: right;\">\n",
              "      <th></th>\n",
              "      <th>InvoiceNo</th>\n",
              "      <th>StockCode</th>\n",
              "      <th>Description</th>\n",
              "      <th>Quantity</th>\n",
              "      <th>UnitPrice</th>\n",
              "      <th>CustomerID</th>\n",
              "      <th>Country</th>\n",
              "    </tr>\n",
              "  </thead>\n",
              "  <tbody>\n",
              "    <tr>\n",
              "      <th>count</th>\n",
              "      <td>284780.000000</td>\n",
              "      <td>284780.000000</td>\n",
              "      <td>284780.000000</td>\n",
              "      <td>284780.000000</td>\n",
              "      <td>284780.000000</td>\n",
              "      <td>284780.000000</td>\n",
              "      <td>284780.000000</td>\n",
              "    </tr>\n",
              "    <tr>\n",
              "      <th>mean</th>\n",
              "      <td>9955.394083</td>\n",
              "      <td>1573.386807</td>\n",
              "      <td>2023.955573</td>\n",
              "      <td>12.028468</td>\n",
              "      <td>3.451216</td>\n",
              "      <td>15288.224278</td>\n",
              "      <td>32.823846</td>\n",
              "    </tr>\n",
              "    <tr>\n",
              "      <th>std</th>\n",
              "      <td>5551.519138</td>\n",
              "      <td>843.604991</td>\n",
              "      <td>1089.812078</td>\n",
              "      <td>295.111588</td>\n",
              "      <td>78.399541</td>\n",
              "      <td>1714.336529</td>\n",
              "      <td>6.743602</td>\n",
              "    </tr>\n",
              "    <tr>\n",
              "      <th>min</th>\n",
              "      <td>0.000000</td>\n",
              "      <td>0.000000</td>\n",
              "      <td>0.000000</td>\n",
              "      <td>-80995.000000</td>\n",
              "      <td>0.000000</td>\n",
              "      <td>12346.000000</td>\n",
              "      <td>0.000000</td>\n",
              "    </tr>\n",
              "    <tr>\n",
              "      <th>25%</th>\n",
              "      <td>5069.000000</td>\n",
              "      <td>939.000000</td>\n",
              "      <td>1141.000000</td>\n",
              "      <td>2.000000</td>\n",
              "      <td>1.250000</td>\n",
              "      <td>13953.000000</td>\n",
              "      <td>35.000000</td>\n",
              "    </tr>\n",
              "    <tr>\n",
              "      <th>50%</th>\n",
              "      <td>10310.000000</td>\n",
              "      <td>1521.000000</td>\n",
              "      <td>1987.000000</td>\n",
              "      <td>5.000000</td>\n",
              "      <td>1.950000</td>\n",
              "      <td>15152.000000</td>\n",
              "      <td>35.000000</td>\n",
              "    </tr>\n",
              "    <tr>\n",
              "      <th>75%</th>\n",
              "      <td>14657.000000</td>\n",
              "      <td>2106.000000</td>\n",
              "      <td>2945.000000</td>\n",
              "      <td>12.000000</td>\n",
              "      <td>3.750000</td>\n",
              "      <td>16794.000000</td>\n",
              "      <td>35.000000</td>\n",
              "    </tr>\n",
              "    <tr>\n",
              "      <th>max</th>\n",
              "      <td>22188.000000</td>\n",
              "      <td>3683.000000</td>\n",
              "      <td>3895.000000</td>\n",
              "      <td>80995.000000</td>\n",
              "      <td>38970.000000</td>\n",
              "      <td>18287.000000</td>\n",
              "      <td>36.000000</td>\n",
              "    </tr>\n",
              "  </tbody>\n",
              "</table>\n",
              "</div>"
            ],
            "text/plain": [
              "           InvoiceNo      StockCode  ...     CustomerID        Country\n",
              "count  284780.000000  284780.000000  ...  284780.000000  284780.000000\n",
              "mean     9955.394083    1573.386807  ...   15288.224278      32.823846\n",
              "std      5551.519138     843.604991  ...    1714.336529       6.743602\n",
              "min         0.000000       0.000000  ...   12346.000000       0.000000\n",
              "25%      5069.000000     939.000000  ...   13953.000000      35.000000\n",
              "50%     10310.000000    1521.000000  ...   15152.000000      35.000000\n",
              "75%     14657.000000    2106.000000  ...   16794.000000      35.000000\n",
              "max     22188.000000    3683.000000  ...   18287.000000      36.000000\n",
              "\n",
              "[8 rows x 7 columns]"
            ]
          },
          "metadata": {
            "tags": []
          },
          "execution_count": 6
        }
      ]
    },
    {
      "cell_type": "code",
      "metadata": {
        "id": "_iZa6i5fmEr2",
        "outputId": "0e53336e-c787-40b6-9176-acf47483011d",
        "colab": {
          "base_uri": "https://localhost:8080/"
        }
      },
      "source": [
        "len(training_data['Country'].unique())"
      ],
      "execution_count": null,
      "outputs": [
        {
          "output_type": "execute_result",
          "data": {
            "text/plain": [
              "37"
            ]
          },
          "metadata": {
            "tags": []
          },
          "execution_count": 11
        }
      ]
    },
    {
      "cell_type": "code",
      "metadata": {
        "id": "mrAcaL2EvSni",
        "outputId": "e98009a0-d78b-4d2e-eb5f-b6db0155c196",
        "colab": {
          "base_uri": "https://localhost:8080/",
          "height": 263
        }
      },
      "source": [
        "\n",
        "# Get correlation\n",
        "training_data.corr()"
      ],
      "execution_count": null,
      "outputs": [
        {
          "output_type": "execute_result",
          "data": {
            "text/html": [
              "<div>\n",
              "<style scoped>\n",
              "    .dataframe tbody tr th:only-of-type {\n",
              "        vertical-align: middle;\n",
              "    }\n",
              "\n",
              "    .dataframe tbody tr th {\n",
              "        vertical-align: top;\n",
              "    }\n",
              "\n",
              "    .dataframe thead th {\n",
              "        text-align: right;\n",
              "    }\n",
              "</style>\n",
              "<table border=\"1\" class=\"dataframe\">\n",
              "  <thead>\n",
              "    <tr style=\"text-align: right;\">\n",
              "      <th></th>\n",
              "      <th>InvoiceNo</th>\n",
              "      <th>StockCode</th>\n",
              "      <th>Description</th>\n",
              "      <th>Quantity</th>\n",
              "      <th>UnitPrice</th>\n",
              "      <th>CustomerID</th>\n",
              "      <th>Country</th>\n",
              "    </tr>\n",
              "  </thead>\n",
              "  <tbody>\n",
              "    <tr>\n",
              "      <th>InvoiceNo</th>\n",
              "      <td>1.000000</td>\n",
              "      <td>0.086809</td>\n",
              "      <td>0.024804</td>\n",
              "      <td>-0.008363</td>\n",
              "      <td>0.007927</td>\n",
              "      <td>-0.007463</td>\n",
              "      <td>0.005432</td>\n",
              "    </tr>\n",
              "    <tr>\n",
              "      <th>StockCode</th>\n",
              "      <td>0.086809</td>\n",
              "      <td>1.000000</td>\n",
              "      <td>-0.013230</td>\n",
              "      <td>-0.000942</td>\n",
              "      <td>0.020073</td>\n",
              "      <td>0.002887</td>\n",
              "      <td>0.006242</td>\n",
              "    </tr>\n",
              "    <tr>\n",
              "      <th>Description</th>\n",
              "      <td>0.024804</td>\n",
              "      <td>-0.013230</td>\n",
              "      <td>1.000000</td>\n",
              "      <td>0.000194</td>\n",
              "      <td>-0.000424</td>\n",
              "      <td>-0.005227</td>\n",
              "      <td>-0.014791</td>\n",
              "    </tr>\n",
              "    <tr>\n",
              "      <th>Quantity</th>\n",
              "      <td>-0.008363</td>\n",
              "      <td>-0.000942</td>\n",
              "      <td>0.000194</td>\n",
              "      <td>1.000000</td>\n",
              "      <td>-0.000924</td>\n",
              "      <td>-0.002930</td>\n",
              "      <td>-0.008001</td>\n",
              "    </tr>\n",
              "    <tr>\n",
              "      <th>UnitPrice</th>\n",
              "      <td>0.007927</td>\n",
              "      <td>0.020073</td>\n",
              "      <td>-0.000424</td>\n",
              "      <td>-0.000924</td>\n",
              "      <td>1.000000</td>\n",
              "      <td>-0.004932</td>\n",
              "      <td>-0.005378</td>\n",
              "    </tr>\n",
              "    <tr>\n",
              "      <th>CustomerID</th>\n",
              "      <td>-0.007463</td>\n",
              "      <td>0.002887</td>\n",
              "      <td>-0.005227</td>\n",
              "      <td>-0.002930</td>\n",
              "      <td>-0.004932</td>\n",
              "      <td>1.000000</td>\n",
              "      <td>0.388198</td>\n",
              "    </tr>\n",
              "    <tr>\n",
              "      <th>Country</th>\n",
              "      <td>0.005432</td>\n",
              "      <td>0.006242</td>\n",
              "      <td>-0.014791</td>\n",
              "      <td>-0.008001</td>\n",
              "      <td>-0.005378</td>\n",
              "      <td>0.388198</td>\n",
              "      <td>1.000000</td>\n",
              "    </tr>\n",
              "  </tbody>\n",
              "</table>\n",
              "</div>"
            ],
            "text/plain": [
              "             InvoiceNo  StockCode  Description  ...  UnitPrice  CustomerID   Country\n",
              "InvoiceNo     1.000000   0.086809     0.024804  ...   0.007927   -0.007463  0.005432\n",
              "StockCode     0.086809   1.000000    -0.013230  ...   0.020073    0.002887  0.006242\n",
              "Description   0.024804  -0.013230     1.000000  ...  -0.000424   -0.005227 -0.014791\n",
              "Quantity     -0.008363  -0.000942     0.000194  ...  -0.000924   -0.002930 -0.008001\n",
              "UnitPrice     0.007927   0.020073    -0.000424  ...   1.000000   -0.004932 -0.005378\n",
              "CustomerID   -0.007463   0.002887    -0.005227  ...  -0.004932    1.000000  0.388198\n",
              "Country       0.005432   0.006242    -0.014791  ...  -0.005378    0.388198  1.000000\n",
              "\n",
              "[7 rows x 7 columns]"
            ]
          },
          "metadata": {
            "tags": []
          },
          "execution_count": 12
        }
      ]
    },
    {
      "cell_type": "code",
      "metadata": {
        "id": "963JDAtVoE0x"
      },
      "source": [],
      "execution_count": null,
      "outputs": []
    },
    {
      "cell_type": "code",
      "metadata": {
        "id": "D5gp2MQV19F5"
      },
      "source": [
        "correct_facies_labels = training_data['Facies'].values\n",
        "feature_vectors = training_data.drop(['Formation', 'Well Name', 'Depth','Facies','FaciesLabels'], axis=1)"
      ],
      "execution_count": null,
      "outputs": []
    },
    {
      "cell_type": "code",
      "metadata": {
        "id": "1jx9jw7y9GCK"
      },
      "source": [
        "\n",
        "from sklearn import preprocessing\n",
        "\n",
        "scaler = preprocessing.StandardScaler().fit(feature_vectors)\n",
        "scaled_features = scaler.transform(feature_vectors)"
      ],
      "execution_count": null,
      "outputs": []
    },
    {
      "cell_type": "code",
      "metadata": {
        "id": "NQ6JUBcf9K3B"
      },
      "source": [
        "from sklearn.model_selection import train_test_split\n",
        "\n",
        "X_train, X_test, y_train, y_test = train_test_split(\n",
        "        scaled_features, correct_facies_labels, test_size=0.2, random_state=10)"
      ],
      "execution_count": null,
      "outputs": []
    },
    {
      "cell_type": "code",
      "metadata": {
        "id": "NTmmY7Vf9O1V",
        "outputId": "0f82686a-00b7-48db-bff7-b5d0d589397e",
        "colab": {
          "base_uri": "https://localhost:8080/",
          "height": 35
        }
      },
      "source": [
        "X_train.size"
      ],
      "execution_count": null,
      "outputs": [
        {
          "output_type": "execute_result",
          "data": {
            "text/plain": [
              "15771"
            ]
          },
          "metadata": {
            "tags": []
          },
          "execution_count": 20
        }
      ]
    },
    {
      "cell_type": "code",
      "metadata": {
        "id": "eYHw05QP9VOL",
        "outputId": "7eccc41d-607f-4735-9c50-2e428480b978",
        "colab": {
          "base_uri": "https://localhost:8080/",
          "height": 35
        }
      },
      "source": [
        "y_train.size"
      ],
      "execution_count": null,
      "outputs": [
        {
          "output_type": "execute_result",
          "data": {
            "text/plain": [
              "2253"
            ]
          },
          "metadata": {
            "tags": []
          },
          "execution_count": 21
        }
      ]
    },
    {
      "cell_type": "code",
      "metadata": {
        "id": "S-wwg2wb9dam",
        "outputId": "4a95e227-09b1-41dc-883f-a93066153a64",
        "colab": {
          "base_uri": "https://localhost:8080/",
          "height": 35
        }
      },
      "source": [
        "blind.size"
      ],
      "execution_count": null,
      "outputs": [
        {
          "output_type": "execute_result",
          "data": {
            "text/plain": [
              "4980"
            ]
          },
          "metadata": {
            "tags": []
          },
          "execution_count": 22
        }
      ]
    },
    {
      "cell_type": "code",
      "metadata": {
        "id": "57Bv1YBUOvCN"
      },
      "source": [
        "import itertools"
      ],
      "execution_count": null,
      "outputs": []
    },
    {
      "cell_type": "code",
      "metadata": {
        "id": "nErPTf2ROF89"
      },
      "source": [
        "def accuracy(conf):\n",
        "    total_correct = 0.\n",
        "    nb_classes = conf.shape[0]\n",
        "    for i in np.arange(0,nb_classes):\n",
        "        total_correct += conf[i][i]\n",
        "    acc = total_correct/sum(sum(conf))\n",
        "    return acc"
      ],
      "execution_count": null,
      "outputs": []
    },
    {
      "cell_type": "code",
      "metadata": {
        "id": "WOxjjcG1rjy4"
      },
      "source": [
        "adjacent_facies = np.array([[1], [0,2], [1], [4], [3,5], [4,6,7], [5,7], [5,6,8], [6,7]])\n",
        "\n",
        "def accuracy_adjacent(conf, adjacent_facies):\n",
        "    nb_classes = conf.shape[0]\n",
        "    total_correct = 0.\n",
        "    for i in np.arange(0,nb_classes):\n",
        "        total_correct += conf[i][i]\n",
        "        for j in adjacent_facies[i]:\n",
        "            total_correct += conf[i][j]\n",
        "    return total_correct / sum(sum(conf))"
      ],
      "execution_count": null,
      "outputs": []
    },
    {
      "cell_type": "code",
      "metadata": {
        "id": "RfbsZ9ClvNE7"
      },
      "source": [
        "def display_cm(cm, labels, hide_zeros=False,\n",
        "                             display_metrics=False):\n",
        "    \"\"\"Display confusion matrix with labels, along with\n",
        "       metrics such as Recall, Precision and F1 score.\n",
        "       Based on Zach Guo's print_cm gist at\n",
        "       https://gist.github.com/zachguo/10296432\n",
        "    \"\"\"\n",
        "\n",
        "    precision = np.diagonal(cm)/cm.sum(axis=0).astype('float')\n",
        "    recall = np.diagonal(cm)/cm.sum(axis=1).astype('float')\n",
        "    F1 = 2 * (precision * recall) / (precision + recall)\n",
        "    \n",
        "    precision[np.isnan(precision)] = 0\n",
        "    recall[np.isnan(recall)] = 0\n",
        "    F1[np.isnan(F1)] = 0\n",
        "    \n",
        "    total_precision = np.sum(precision * cm.sum(axis=1)) / cm.sum(axis=(0,1))\n",
        "    total_recall = np.sum(recall * cm.sum(axis=1)) / cm.sum(axis=(0,1))\n",
        "    total_F1 = np.sum(F1 * cm.sum(axis=1)) / cm.sum(axis=(0,1))\n",
        "    #print total_precision\n",
        "    \n",
        "    columnwidth = max([len(x) for x in labels]+[5]) # 5 is value length\n",
        "    empty_cell = \" \" * columnwidth\n",
        "    # Print header\n",
        "    print(\"    \" + \" Pred\", end=' ')\n",
        "    for label in labels: \n",
        "        print(\"%{0}s\".format(columnwidth) % label, end=' ')\n",
        "    print(\"%{0}s\".format(columnwidth) % 'Total')\n",
        "    print(\"    \" + \" True\")\n",
        "    # Print rows\n",
        "    for i, label1 in enumerate(labels):\n",
        "        print(\"    %{0}s\".format(columnwidth) % label1, end=' ')\n",
        "        for j in range(len(labels)): \n",
        "            cell = \"%{0}d\".format(columnwidth) % cm[i, j]\n",
        "            if hide_zeros:\n",
        "                cell = cell if float(cm[i, j]) != 0 else empty_cell\n",
        "            print(cell, end=' ')\n",
        "        print(\"%{0}d\".format(columnwidth) % sum(cm[i,:]))\n",
        "        \n",
        "    if display_metrics:\n",
        "        print()\n",
        "        print(\"Precision\", end=' ')\n",
        "        for j in range(len(labels)):\n",
        "            cell = \"%{0}.2f\".format(columnwidth) % precision[j]\n",
        "            print(cell, end=' ')\n",
        "        print(\"%{0}.2f\".format(columnwidth) % total_precision)\n",
        "        print(\"   Recall\", end=' ')\n",
        "        for j in range(len(labels)):\n",
        "            cell = \"%{0}.2f\".format(columnwidth) % recall[j]\n",
        "            print(cell, end=' ')\n",
        "        print(\"%{0}.2f\".format(columnwidth) % total_recall)\n",
        "        print(\"       F1\", end=' ')\n",
        "        for j in range(len(labels)):\n",
        "            cell = \"%{0}.2f\".format(columnwidth) % F1[j]\n",
        "            print(cell, end=' ')\n",
        "        print(\"%{0}.2f\".format(columnwidth) % total_F1)"
      ],
      "execution_count": null,
      "outputs": []
    },
    {
      "cell_type": "code",
      "metadata": {
        "id": "Wv9jrWsSr60F"
      },
      "source": [
        "def display_adj_cm(\n",
        "        cm, labels, adjacent_facies, hide_zeros=False, \n",
        "        display_metrics=False):\n",
        "    \"\"\"This function displays a confusion matrix that counts \n",
        "       adjacent facies as correct.\n",
        "    \"\"\"\n",
        "    adj_cm = np.copy(cm)\n",
        "    \n",
        "    for i in np.arange(0,cm.shape[0]):\n",
        "        for j in adjacent_facies[i]:\n",
        "            adj_cm[i][i] += adj_cm[i][j]\n",
        "            adj_cm[i][j] = 0.0\n",
        "        \n",
        "    display_cm(adj_cm, labels, hide_zeros, \n",
        "                             display_metrics)"
      ],
      "execution_count": null,
      "outputs": []
    },
    {
      "cell_type": "markdown",
      "metadata": {
        "id": "NnHc9OQ2Ocpe"
      },
      "source": [
        "## **SVM**"
      ]
    },
    {
      "cell_type": "code",
      "metadata": {
        "id": "1HMQKeDQ9e8k"
      },
      "source": [
        "\n",
        "from sklearn import svm\n",
        "SVM_model = svm.SVC(C=10, gamma=1)"
      ],
      "execution_count": null,
      "outputs": []
    },
    {
      "cell_type": "code",
      "metadata": {
        "id": "HJ7UC3ta-ntz",
        "outputId": "2a81729f-e08f-4e54-8cd6-9f4d6ddfa65f",
        "colab": {
          "base_uri": "https://localhost:8080/",
          "height": 87
        }
      },
      "source": [
        "\n",
        "SVM_model.fit(X_train,y_train)"
      ],
      "execution_count": null,
      "outputs": [
        {
          "output_type": "execute_result",
          "data": {
            "text/plain": [
              "SVC(C=10, break_ties=False, cache_size=200, class_weight=None, coef0=0.0,\n",
              "    decision_function_shape='ovr', degree=3, gamma=1, kernel='rbf', max_iter=-1,\n",
              "    probability=False, random_state=None, shrinking=True, tol=0.001,\n",
              "    verbose=False)"
            ]
          },
          "metadata": {
            "tags": []
          },
          "execution_count": 29
        }
      ]
    },
    {
      "cell_type": "code",
      "metadata": {
        "id": "9OwCHhGc-qCj"
      },
      "source": [
        "\n",
        "yhat_SVM = SVM_model.predict(X_test)"
      ],
      "execution_count": null,
      "outputs": []
    },
    {
      "cell_type": "code",
      "metadata": {
        "id": "BlnNYo2RAyzU"
      },
      "source": [
        "import itertools"
      ],
      "execution_count": null,
      "outputs": []
    },
    {
      "cell_type": "code",
      "metadata": {
        "id": "dnqyQOVp-tHs",
        "outputId": "40f8dcb1-74a0-4754-ce34-52bea9e6102f",
        "colab": {
          "base_uri": "https://localhost:8080/",
          "height": 295
        }
      },
      "source": [
        "from sklearn.metrics import confusion_matrix\n",
        "\n",
        "confusion_mtx = confusion_matrix(y_test, yhat_SVM) \n",
        "print('Facies classification accuracy = %f' % accuracy(confusion_mtx))\n",
        "display_cm(confusion_mtx, facies_labels, hide_zeros=True, display_metrics=True)"
      ],
      "execution_count": null,
      "outputs": [
        {
          "output_type": "stream",
          "text": [
            "Facies classification accuracy = 0.744681\n",
            "     Pred    SS  CSiS  FSiS  SiSh    MS    WS     D    PS    BS Total\n",
            "     True\n",
            "       SS    42    10                                              52\n",
            "     CSiS     6    83    23     1                       1         114\n",
            "     FSiS     2    19    79     2     1     1           1         105\n",
            "     SiSh                      29           6           2          37\n",
            "       MS                       3    17     5           3          28\n",
            "       WS                 2     3     7    75          11     2   100\n",
            "        D           1     2           1          22     2     1    29\n",
            "       PS                             7    12     2    53     2    76\n",
            "       BS                 1                 1           1    20    23\n",
            "\n",
            "Precision  0.84  0.73  0.74  0.76  0.52  0.75  0.92  0.72  0.80  0.75\n",
            "   Recall  0.81  0.73  0.75  0.78  0.61  0.75  0.76  0.70  0.87  0.74\n",
            "       F1  0.82  0.73  0.75  0.77  0.56  0.75  0.83  0.71  0.83  0.75\n"
          ],
          "name": "stdout"
        }
      ]
    },
    {
      "cell_type": "code",
      "metadata": {
        "id": "RQh5Xr5Dr_mZ",
        "outputId": "4415d81c-bdcf-485a-da4f-e2c3b62bb929",
        "colab": {
          "base_uri": "https://localhost:8080/",
          "height": 295
        }
      },
      "source": [
        "print('Adjacent facies classification accuracy = %f' % accuracy_adjacent(confusion_mtx, adjacent_facies))\n",
        "display_adj_cm(confusion_mtx, facies_labels, adjacent_facies, hide_zeros=True, display_metrics=True)"
      ],
      "execution_count": null,
      "outputs": [
        {
          "output_type": "stream",
          "text": [
            "Adjacent facies classification accuracy = 0.927305\n",
            "     Pred    SS  CSiS  FSiS  SiSh    MS    WS     D    PS    BS Total\n",
            "     True\n",
            "       SS    52                                                    52\n",
            "     CSiS         112           1                       1         114\n",
            "     FSiS     2          98     2     1     1           1         105\n",
            "     SiSh                      29           6           2          37\n",
            "       MS                            25                 3          28\n",
            "       WS                 2     3          93                 2   100\n",
            "        D           1     2           1          24           1    29\n",
            "       PS                             7                69          76\n",
            "       BS                 1                 1                21    23\n",
            "\n",
            "Precision  0.96  0.99  0.95  0.83  0.74  0.92  1.00  0.91  0.88  0.93\n",
            "   Recall  1.00  0.98  0.93  0.78  0.89  0.93  0.83  0.91  0.91  0.93\n",
            "       F1  0.98  0.99  0.94  0.81  0.81  0.93  0.91  0.91  0.89  0.93\n"
          ],
          "name": "stdout"
        }
      ]
    },
    {
      "cell_type": "code",
      "metadata": {
        "id": "soQv7MVBE--8",
        "outputId": "058633ac-93bf-468c-c605-d1cb4d283c99",
        "colab": {
          "base_uri": "https://localhost:8080/",
          "height": 107
        }
      },
      "source": [
        "from sklearn.metrics import jaccard_similarity_score\n",
        "from sklearn.metrics import f1_score\n",
        "\n",
        "jSVM = jaccard_similarity_score(y_test, yhat_SVM)\n",
        "f1SVM = f1_score(y_test, yhat_SVM, average='weighted')\n",
        "print(\"SVM Jaccard index: %.3f\" % jSVM )\n",
        "print(\"SVM F1-score: %.3f\" % f1SVM  )"
      ],
      "execution_count": null,
      "outputs": [
        {
          "output_type": "stream",
          "text": [
            "SVM Jaccard index: 0.745\n",
            "SVM F1-score: 0.746\n"
          ],
          "name": "stdout"
        },
        {
          "output_type": "stream",
          "text": [
            "/usr/local/lib/python3.6/dist-packages/sklearn/metrics/_classification.py:664: FutureWarning: jaccard_similarity_score has been deprecated and replaced with jaccard_score. It will be removed in version 0.23. This implementation has surprising behavior for binary and multiclass classification tasks.\n",
            "  FutureWarning)\n"
          ],
          "name": "stderr"
        }
      ]
    },
    {
      "cell_type": "markdown",
      "metadata": {
        "id": "Ot6OAl_yumw_"
      },
      "source": [
        "# **GPC**"
      ]
    },
    {
      "cell_type": "code",
      "metadata": {
        "id": "B-dM-AuIrxDo"
      },
      "source": [
        "from sklearn.gaussian_process import GaussianProcessClassifier\n",
        "from sklearn.gaussian_process.kernels import RBF\n",
        "\n",
        "GPC_model = GaussianProcessClassifier().fit(X_train, y_train)\n",
        "\n",
        "yhat_GPC = GPC_model.predict(X_test)"
      ],
      "execution_count": null,
      "outputs": []
    },
    {
      "cell_type": "code",
      "metadata": {
        "id": "dAqZbvvkvZ4G",
        "outputId": "72475d7e-9ee9-40de-d421-668cdb4c2518",
        "colab": {
          "base_uri": "https://localhost:8080/",
          "height": 107
        }
      },
      "source": [
        "jGPC = jaccard_similarity_score(y_test, yhat_GPC)\n",
        "f1GPC = f1_score(y_test, yhat_GPC, average='weighted')\n",
        "\n",
        "print(\"GPC Jaccard index: %.3f\" % jGPC)\n",
        "print(\"GPC F1-score: %.3f\" % jGPC )"
      ],
      "execution_count": null,
      "outputs": [
        {
          "output_type": "stream",
          "text": [
            "GPC Jaccard index: 0.663\n",
            "GPC F1-score: 0.663\n"
          ],
          "name": "stdout"
        },
        {
          "output_type": "stream",
          "text": [
            "/usr/local/lib/python3.6/dist-packages/sklearn/metrics/_classification.py:664: FutureWarning: jaccard_similarity_score has been deprecated and replaced with jaccard_score. It will be removed in version 0.23. This implementation has surprising behavior for binary and multiclass classification tasks.\n",
            "  FutureWarning)\n"
          ],
          "name": "stderr"
        }
      ]
    },
    {
      "cell_type": "code",
      "metadata": {
        "id": "kHC3VNmzvcRi"
      },
      "source": [
        "conf_GPC = confusion_matrix(y_test, yhat_GPC)"
      ],
      "execution_count": null,
      "outputs": []
    },
    {
      "cell_type": "code",
      "metadata": {
        "id": "Nr0IVpYWvl58",
        "outputId": "f0ab5349-5839-43a0-f8a0-ebc0483ad4df",
        "colab": {
          "base_uri": "https://localhost:8080/",
          "height": 295
        }
      },
      "source": [
        "print('Facies classification accuracy = %f' % accuracy(conf_GPC))\n",
        "display_cm(conf_GPC, facies_labels, hide_zeros=True, display_metrics=True)"
      ],
      "execution_count": null,
      "outputs": [
        {
          "output_type": "stream",
          "text": [
            "Facies classification accuracy = 0.663121\n",
            "     Pred    SS  CSiS  FSiS  SiSh    MS    WS     D    PS    BS Total\n",
            "     True\n",
            "       SS    34    16     2                                        52\n",
            "     CSiS     8    75    30                 1                     114\n",
            "     FSiS     1    28    72     1     1     1           1         105\n",
            "     SiSh                      25          10           2          37\n",
            "       MS                            10    12     1     5          28\n",
            "       WS                 1     3     7    71          16     2   100\n",
            "        D           1                       1    20     5     2    29\n",
            "       PS                       1     2    20     2    46     5    76\n",
            "       BS                                   1           1    21    23\n",
            "\n",
            "Precision  0.79  0.62  0.69  0.83  0.50  0.61  0.87  0.61  0.70  0.67\n",
            "   Recall  0.65  0.66  0.69  0.68  0.36  0.71  0.69  0.61  0.91  0.66\n",
            "       F1  0.72  0.64  0.69  0.75  0.42  0.65  0.77  0.61  0.79  0.66\n"
          ],
          "name": "stdout"
        }
      ]
    },
    {
      "cell_type": "code",
      "metadata": {
        "id": "o-FjPz5Uv1FT",
        "outputId": "9b2c5a90-b7d7-4b66-896f-2b1f73083349",
        "colab": {
          "base_uri": "https://localhost:8080/",
          "height": 295
        }
      },
      "source": [
        "print('Adjacent facies classification accuracy = %f' % accuracy_adjacent(conf_GPC, adjacent_facies))\n",
        "display_adj_cm(conf_GPC, facies_labels, adjacent_facies, hide_zeros=True, display_metrics=True)"
      ],
      "execution_count": null,
      "outputs": [
        {
          "output_type": "stream",
          "text": [
            "Adjacent facies classification accuracy = 0.930851\n",
            "     Pred    SS  CSiS  FSiS  SiSh    MS    WS     D    PS    BS Total\n",
            "     True\n",
            "       SS    50           2                                        52\n",
            "     CSiS         113                       1                     114\n",
            "     FSiS     1         100     1     1     1           1         105\n",
            "     SiSh                      25          10           2          37\n",
            "       MS                            22           1     5          28\n",
            "       WS                 1     3          94                 2   100\n",
            "        D           1                            26           2    29\n",
            "       PS                       1     2                73          76\n",
            "       BS                                   1                22    23\n",
            "\n",
            "Precision  0.98  0.99  0.97  0.83  0.88  0.88  0.96  0.90  0.85  0.93\n",
            "   Recall  0.96  0.99  0.95  0.68  0.79  0.94  0.90  0.96  0.96  0.93\n",
            "       F1  0.97  0.99  0.96  0.75  0.83  0.91  0.93  0.93  0.90  0.93\n"
          ],
          "name": "stdout"
        }
      ]
    },
    {
      "cell_type": "markdown",
      "metadata": {
        "id": "SYy4PDgNwDn4"
      },
      "source": [
        "# **RANDOM FOREST CLASSIFIER**"
      ]
    },
    {
      "cell_type": "code",
      "metadata": {
        "id": "rVi0zFDxv8qc"
      },
      "source": [
        "\n",
        "from sklearn.ensemble import RandomForestClassifier\n",
        "from sklearn.datasets import make_classification\n",
        "\n",
        "RFC_model = RandomForestClassifier(max_depth=12, n_estimators=20, max_features=7).fit(X_train, y_train)\n",
        "\n",
        "\n",
        "yhat_RFC = RFC_model.predict(X_test)\n"
      ],
      "execution_count": null,
      "outputs": []
    },
    {
      "cell_type": "code",
      "metadata": {
        "id": "PmbX7QGewK8c",
        "outputId": "2c187778-7992-4831-f128-99687be7c0ca",
        "colab": {
          "base_uri": "https://localhost:8080/",
          "height": 107
        }
      },
      "source": [
        "jRFC  = jaccard_similarity_score(y_test, yhat_RFC)\n",
        "f1RFC = f1_score(y_test, yhat_RFC, average='weighted')\n",
        "\n",
        "print(\"RFC Jaccard index: %.3f\" % jRFC )\n",
        "print(\"RFC F1-score: %.3f\" % f1RFC)"
      ],
      "execution_count": null,
      "outputs": [
        {
          "output_type": "stream",
          "text": [
            "RFC Jaccard index: 0.679\n",
            "RFC F1-score: 0.680\n"
          ],
          "name": "stdout"
        },
        {
          "output_type": "stream",
          "text": [
            "/usr/local/lib/python3.6/dist-packages/sklearn/metrics/_classification.py:664: FutureWarning: jaccard_similarity_score has been deprecated and replaced with jaccard_score. It will be removed in version 0.23. This implementation has surprising behavior for binary and multiclass classification tasks.\n",
            "  FutureWarning)\n"
          ],
          "name": "stderr"
        }
      ]
    },
    {
      "cell_type": "code",
      "metadata": {
        "id": "4ru9X9VwwOxz"
      },
      "source": [
        "conf_RFC = confusion_matrix(y_test, yhat_RFC)"
      ],
      "execution_count": null,
      "outputs": []
    },
    {
      "cell_type": "code",
      "metadata": {
        "id": "eIiz4kXkwU7z",
        "outputId": "359ef100-659c-47fe-80c8-7348682d8c51",
        "colab": {
          "base_uri": "https://localhost:8080/",
          "height": 295
        }
      },
      "source": [
        "print('Facies classification accuracy = %f' % accuracy(conf_RFC))\n",
        "display_cm(conf_RFC, facies_labels, hide_zeros=True, display_metrics=True)"
      ],
      "execution_count": null,
      "outputs": [
        {
          "output_type": "stream",
          "text": [
            "Facies classification accuracy = 0.679078\n",
            "     Pred    SS  CSiS  FSiS  SiSh    MS    WS     D    PS    BS Total\n",
            "     True\n",
            "       SS    36    15     1                                        52\n",
            "     CSiS     2    83    28                 1                     114\n",
            "     FSiS     1    30    69     1     1                 3         105\n",
            "     SiSh                      25     2     7           3          37\n",
            "       MS                       3    13     6     1     5          28\n",
            "       WS                 1     2     5    73     1    15     3   100\n",
            "        D           1                 1     1    18     5     3    29\n",
            "       PS                             5    25     1    45          76\n",
            "       BS                                   1           1    21    23\n",
            "\n",
            "Precision  0.92  0.64  0.70  0.81  0.48  0.64  0.86  0.58  0.78  0.69\n",
            "   Recall  0.69  0.73  0.66  0.68  0.46  0.73  0.62  0.59  0.91  0.68\n",
            "       F1  0.79  0.68  0.68  0.74  0.47  0.68  0.72  0.59  0.84  0.68\n"
          ],
          "name": "stdout"
        }
      ]
    },
    {
      "cell_type": "code",
      "metadata": {
        "id": "FXJeo9wDwXX2",
        "outputId": "efb22f45-a236-482e-8fc1-a975dc3dcc31",
        "colab": {
          "base_uri": "https://localhost:8080/",
          "height": 295
        }
      },
      "source": [
        "print('Adjacent facies classification accuracy = %f' % accuracy_adjacent(conf_RFC, adjacent_facies))\n",
        "display_adj_cm(conf_RFC, facies_labels, adjacent_facies, hide_zeros=True, display_metrics=True)"
      ],
      "execution_count": null,
      "outputs": [
        {
          "output_type": "stream",
          "text": [
            "Adjacent facies classification accuracy = 0.927305\n",
            "     Pred    SS  CSiS  FSiS  SiSh    MS    WS     D    PS    BS Total\n",
            "     True\n",
            "       SS    51           1                                        52\n",
            "     CSiS         113                       1                     114\n",
            "     FSiS     1          99     1     1                 3         105\n",
            "     SiSh                      27           7           3          37\n",
            "       MS                            22           1     5          28\n",
            "       WS                 1     2          94                 3   100\n",
            "        D           1                 1          24           3    29\n",
            "       PS                             5                71          76\n",
            "       BS                                   1                22    23\n",
            "\n",
            "Precision  0.98  0.99  0.98  0.90  0.76  0.91  0.96  0.87  0.79  0.93\n",
            "   Recall  0.98  0.99  0.94  0.73  0.79  0.94  0.83  0.93  0.96  0.93\n",
            "       F1  0.98  0.99  0.96  0.81  0.77  0.93  0.89  0.90  0.86  0.93\n"
          ],
          "name": "stdout"
        }
      ]
    },
    {
      "cell_type": "markdown",
      "metadata": {
        "id": "Rz1KB0AVwlxN"
      },
      "source": [
        "# **NEURAL NETWORK CLASSIFIER**"
      ]
    },
    {
      "cell_type": "code",
      "metadata": {
        "id": "RUXR85XEwgIq"
      },
      "source": [
        "\n",
        "from sklearn.neural_network import MLPClassifier\n",
        "\n",
        "\n",
        "NNC_model = MLPClassifier(alpha=0.001, max_iter=1000, learning_rate_init=0.001, \n",
        "                          solver='adam', batch_size=8, hidden_layer_sizes=200).fit(X_train, y_train)\n",
        "\n",
        "yhat_NNC = NNC_model.predict(X_test)\n"
      ],
      "execution_count": null,
      "outputs": []
    },
    {
      "cell_type": "code",
      "metadata": {
        "id": "YNN-HQ358dhD",
        "outputId": "fe9c7120-c64d-4055-88d9-be313974fe4b",
        "colab": {
          "base_uri": "https://localhost:8080/",
          "height": 107
        }
      },
      "source": [
        "jNNC  =  jaccard_similarity_score(y_test, yhat_NNC)\n",
        "f1NNC =  f1_score(y_test, yhat_NNC, average='weighted')\n",
        "\n",
        "print(\"NNC Jaccard index: %.3f\" %jNNC)\n",
        "print(\"NNC F1-score: %.3f\" %f1NNC )"
      ],
      "execution_count": null,
      "outputs": [
        {
          "output_type": "stream",
          "text": [
            "NNC Jaccard index: 0.699\n",
            "NNC F1-score: 0.701\n"
          ],
          "name": "stdout"
        },
        {
          "output_type": "stream",
          "text": [
            "/usr/local/lib/python3.6/dist-packages/sklearn/metrics/_classification.py:664: FutureWarning: jaccard_similarity_score has been deprecated and replaced with jaccard_score. It will be removed in version 0.23. This implementation has surprising behavior for binary and multiclass classification tasks.\n",
            "  FutureWarning)\n"
          ],
          "name": "stderr"
        }
      ]
    },
    {
      "cell_type": "code",
      "metadata": {
        "id": "vxe1s48Uwr0E",
        "outputId": "401ef28f-5266-4e96-c8cb-2fe31322006f",
        "colab": {
          "base_uri": "https://localhost:8080/",
          "height": 107
        }
      },
      "source": [
        "jNNC  =  jaccard_similarity_score(y_test, yhat_NNC)\n",
        "f1NNC =  f1_score(y_test, yhat_NNC, average='weighted')\n",
        "\n",
        "print(\"NNC Jaccard index: %.3f\" %jNNC)\n",
        "print(\"NNC F1-score: %.3f\" %f1NNC )"
      ],
      "execution_count": null,
      "outputs": [
        {
          "output_type": "stream",
          "text": [
            "NNC Jaccard index: 0.699\n",
            "NNC F1-score: 0.701\n"
          ],
          "name": "stdout"
        },
        {
          "output_type": "stream",
          "text": [
            "/usr/local/lib/python3.6/dist-packages/sklearn/metrics/_classification.py:664: FutureWarning: jaccard_similarity_score has been deprecated and replaced with jaccard_score. It will be removed in version 0.23. This implementation has surprising behavior for binary and multiclass classification tasks.\n",
            "  FutureWarning)\n"
          ],
          "name": "stderr"
        }
      ]
    },
    {
      "cell_type": "code",
      "metadata": {
        "id": "4IuFR6Jcwvug"
      },
      "source": [
        "conf_NNC = confusion_matrix(y_test, yhat_NNC)"
      ],
      "execution_count": null,
      "outputs": []
    },
    {
      "cell_type": "code",
      "metadata": {
        "id": "e4vJPL6vwz2q",
        "outputId": "70cee2b8-3154-4722-ca4d-48c4c7bff69d",
        "colab": {
          "base_uri": "https://localhost:8080/",
          "height": 295
        }
      },
      "source": [
        "print('Facies classification accuracy = %f' % accuracy(conf_NNC))\n",
        "display_cm(conf_NNC, facies_labels, hide_zeros=True, display_metrics=True)"
      ],
      "execution_count": null,
      "outputs": [
        {
          "output_type": "stream",
          "text": [
            "Facies classification accuracy = 0.698582\n",
            "     Pred    SS  CSiS  FSiS  SiSh    MS    WS     D    PS    BS Total\n",
            "     True\n",
            "       SS    39     8     5                                        52\n",
            "     CSiS     4    77    31           1                 1         114\n",
            "     FSiS     1    16    84     1                       3         105\n",
            "     SiSh                      26     2     5           4          37\n",
            "       MS                       3    14     6           5          28\n",
            "       WS                       1     5    65          26     3   100\n",
            "        D           1                 2          18     6     2    29\n",
            "       PS                             4    18     1    50     3    76\n",
            "       BS                                   2                21    23\n",
            "\n",
            "Precision  0.89  0.75  0.70  0.84  0.50  0.68  0.95  0.53  0.72  0.71\n",
            "   Recall  0.75  0.68  0.80  0.70  0.50  0.65  0.62  0.66  0.91  0.70\n",
            "       F1  0.81  0.71  0.75  0.76  0.50  0.66  0.75  0.58  0.81  0.70\n"
          ],
          "name": "stdout"
        }
      ]
    },
    {
      "cell_type": "code",
      "metadata": {
        "id": "Tp7je7PVw1nt",
        "outputId": "dccf3de2-08d0-494b-bc78-0624715e7cc4",
        "colab": {
          "base_uri": "https://localhost:8080/",
          "height": 295
        }
      },
      "source": [
        "print('Adjacent facies classification accuracy = %f' % accuracy_adjacent(conf_NNC, adjacent_facies))\n",
        "display_adj_cm(conf_NNC, facies_labels, adjacent_facies, hide_zeros=True, display_metrics=True)"
      ],
      "execution_count": null,
      "outputs": [
        {
          "output_type": "stream",
          "text": [
            "Adjacent facies classification accuracy = 0.927305\n",
            "     Pred    SS  CSiS  FSiS  SiSh    MS    WS     D    PS    BS Total\n",
            "     True\n",
            "       SS    47           5                                        52\n",
            "     CSiS         112                 1                 1         114\n",
            "     FSiS     1         100     1                       3         105\n",
            "     SiSh                      28           5           4          37\n",
            "       MS                            23                 5          28\n",
            "       WS                       1          96                 3   100\n",
            "        D           1                 2          24           2    29\n",
            "       PS                             4                72          76\n",
            "       BS                                   2                21    23\n",
            "\n",
            "Precision  0.98  0.99  0.95  0.93  0.77  0.93  1.00  0.85  0.81  0.93\n",
            "   Recall  0.90  0.98  0.95  0.76  0.82  0.96  0.83  0.95  0.91  0.93\n",
            "       F1  0.94  0.99  0.95  0.84  0.79  0.95  0.91  0.89  0.86  0.93\n"
          ],
          "name": "stdout"
        }
      ]
    },
    {
      "cell_type": "markdown",
      "metadata": {
        "id": "b5_zGTI0xK9w"
      },
      "source": [
        "# **K NEIGHBOUR CLASSIFIER**"
      ]
    },
    {
      "cell_type": "code",
      "metadata": {
        "id": "Zf-4X5jYxIvi",
        "outputId": "328623d5-de71-4384-c2fc-63d0f1bc5cd3",
        "colab": {
          "base_uri": "https://localhost:8080/",
          "height": 297
        }
      },
      "source": [
        "from sklearn.neighbors import KNeighborsClassifier\n",
        "# to chose the best k value we may run in range of valus \n",
        "Ks =15\n",
        "mean_acc = np.zeros((Ks-1))\n",
        "std_acc = np.zeros((Ks-1))\n",
        "ConfusMtx = [];\n",
        "\n",
        "for n in range(1,Ks):\n",
        "    KNN_model = KNeighborsClassifier(n_neighbors=n).fit(X_train, y_train)\n",
        "    yhat = KNN_model.predict(X_test)\n",
        "    \n",
        "    mean_acc[n-1]= np.mean(yhat==y_test);\n",
        "    std_acc[n-1]=np.std(yhat==y_test)/np.sqrt(yhat.shape[0])\n",
        "\n",
        "k = 5    #it seems 5 is good enough\n",
        "KNN_model = KNeighborsClassifier(n_neighbors=k ,leaf_size=50, p=1,  weights='distance' ).fit(X_train, y_train)\n",
        "KNN_model\n",
        "#plot\n",
        "plt.plot(range(1,Ks),mean_acc,'g')\n",
        "plt.fill_between(range(1,Ks),mean_acc - 1 * std_acc,mean_acc + 1 * std_acc, alpha=0.10)\n",
        "plt.legend(('Accuracy ', '+/- 3xstd'))\n",
        "plt.ylabel('Accuracy ')\n",
        "plt.xlabel('Number of Neighbours (K)')\n",
        "plt.tight_layout()\n",
        "plt.show()\n",
        "\n",
        "yhat_KNN = KNN_model.predict(X_test)"
      ],
      "execution_count": null,
      "outputs": [
        {
          "output_type": "display_data",
          "data": {
            "image/png": "[encoded data removed]",
            "text/plain": [
              "<Figure size 432x288 with 1 Axes>"
            ]
          },
          "metadata": {
            "tags": [],
            "needs_background": "light"
          }
        }
      ]
    },
    {
      "cell_type": "code",
      "metadata": {
        "id": "NVtIVH9exSiw",
        "outputId": "cc29912d-c01a-4fb8-c470-fd3523c28a73",
        "colab": {
          "base_uri": "https://localhost:8080/",
          "height": 107
        }
      },
      "source": [
        "jKNN  = jaccard_similarity_score(y_test, yhat_KNN)\n",
        "f1KNN = f1_score(y_test, yhat_KNN, average='weighted')\n",
        "print(\"KNN Jaccard index: %.3f\" % jKNN )\n",
        "print(\"KNN F1-score: %.3f\" % f1KNN  )"
      ],
      "execution_count": null,
      "outputs": [
        {
          "output_type": "stream",
          "text": [
            "KNN Jaccard index: 0.716\n",
            "KNN F1-score: 0.717\n"
          ],
          "name": "stdout"
        },
        {
          "output_type": "stream",
          "text": [
            "/usr/local/lib/python3.6/dist-packages/sklearn/metrics/_classification.py:664: FutureWarning: jaccard_similarity_score has been deprecated and replaced with jaccard_score. It will be removed in version 0.23. This implementation has surprising behavior for binary and multiclass classification tasks.\n",
            "  FutureWarning)\n"
          ],
          "name": "stderr"
        }
      ]
    },
    {
      "cell_type": "code",
      "metadata": {
        "id": "5Wl3Mr4SyCX3"
      },
      "source": [
        "conf_KNN = confusion_matrix(y_test, yhat_KNN)"
      ],
      "execution_count": null,
      "outputs": []
    },
    {
      "cell_type": "code",
      "metadata": {
        "id": "InMPNrMlyGSJ",
        "outputId": "9c3232d9-e429-44ee-dc9c-a53401b28182",
        "colab": {
          "base_uri": "https://localhost:8080/",
          "height": 295
        }
      },
      "source": [
        "print('Facies classification accuracy = %f' % accuracy(conf_KNN))\n",
        "display_cm(conf_KNN, facies_labels, hide_zeros=True, display_metrics=True)"
      ],
      "execution_count": null,
      "outputs": [
        {
          "output_type": "stream",
          "text": [
            "Facies classification accuracy = 0.716312\n",
            "     Pred    SS  CSiS  FSiS  SiSh    MS    WS     D    PS    BS Total\n",
            "     True\n",
            "       SS    40    10     2                                        52\n",
            "     CSiS     5    78    30     1                                 114\n",
            "     FSiS     2    21    77     1     1     1           2         105\n",
            "     SiSh                      27     1     7           2          37\n",
            "       MS                       4    15     5           4          28\n",
            "       WS                 1     3     5    73          15     3   100\n",
            "        D           1                 1          24     2     1    29\n",
            "       PS                            10    14     1    48     3    76\n",
            "       BS                                               1    22    23\n",
            "\n",
            "Precision  0.85  0.71  0.70  0.75  0.45  0.73  0.96  0.65  0.76  0.72\n",
            "   Recall  0.77  0.68  0.73  0.73  0.54  0.73  0.83  0.63  0.96  0.72\n",
            "       F1  0.81  0.70  0.72  0.74  0.49  0.73  0.89  0.64  0.85  0.72\n"
          ],
          "name": "stdout"
        }
      ]
    },
    {
      "cell_type": "code",
      "metadata": {
        "id": "iecvIQdtyMmm",
        "outputId": "2e097cc5-9439-4fa9-9ca5-9aa3a3c43df5",
        "colab": {
          "base_uri": "https://localhost:8080/",
          "height": 295
        }
      },
      "source": [
        "print('Adjacent facies classification accuracy = %f' % accuracy_adjacent(conf_KNN, adjacent_facies))\n",
        "display_adj_cm(conf_KNN, facies_labels, adjacent_facies, hide_zeros=True, display_metrics=True)"
      ],
      "execution_count": null,
      "outputs": [
        {
          "output_type": "stream",
          "text": [
            "Adjacent facies classification accuracy = 0.923759\n",
            "     Pred    SS  CSiS  FSiS  SiSh    MS    WS     D    PS    BS Total\n",
            "     True\n",
            "       SS    50           2                                        52\n",
            "     CSiS         113           1                                 114\n",
            "     FSiS     2          98     1     1     1           2         105\n",
            "     SiSh                      28           7           2          37\n",
            "       MS                            24                 4          28\n",
            "       WS                 1     3          93                 3   100\n",
            "        D           1                 1          26           1    29\n",
            "       PS                            10                66          76\n",
            "       BS                                                    23    23\n",
            "\n",
            "Precision  0.96  0.99  0.97  0.85  0.67  0.92  1.00  0.89  0.85  0.93\n",
            "   Recall  0.96  0.99  0.93  0.76  0.86  0.93  0.90  0.87  1.00  0.92\n",
            "       F1  0.96  0.99  0.95  0.80  0.75  0.93  0.95  0.88  0.92  0.92\n"
          ],
          "name": "stdout"
        }
      ]
    },
    {
      "cell_type": "markdown",
      "metadata": {
        "id": "PEvipRIMyWYR"
      },
      "source": [
        "# **DECISION TREE CLASSIFIFER**"
      ]
    },
    {
      "cell_type": "code",
      "metadata": {
        "id": "p7E5KGvCyTSk"
      },
      "source": [
        "\n",
        "from sklearn.tree import DecisionTreeClassifier\n",
        "DT_model = DecisionTreeClassifier(criterion=\"entropy\", max_depth = 25, min_samples_split=3 )\n",
        "DT_model.fit(X_train,y_train)\n",
        "DT_model\n",
        "\n",
        "yhat_DT = DT_model.predict(X_test)"
      ],
      "execution_count": null,
      "outputs": []
    },
    {
      "cell_type": "code",
      "metadata": {
        "id": "GfSBFamvydTD",
        "outputId": "a11978c0-e9d1-4573-c3ee-89d7298f6e10",
        "colab": {
          "base_uri": "https://localhost:8080/",
          "height": 107
        }
      },
      "source": [
        "jDT  = jaccard_similarity_score(y_test, yhat_DT)\n",
        "f1DT = f1_score(y_test, yhat_DT, average='weighted')\n",
        "print(\"DT Jaccard index: %.3f\" % jDT )\n",
        "print(\"DT F1-score: %.3f\" % f1DT )"
      ],
      "execution_count": null,
      "outputs": [
        {
          "output_type": "stream",
          "text": [
            "DT Jaccard index: 0.587\n",
            "DT F1-score: 0.592\n"
          ],
          "name": "stdout"
        },
        {
          "output_type": "stream",
          "text": [
            "/usr/local/lib/python3.6/dist-packages/sklearn/metrics/_classification.py:664: FutureWarning: jaccard_similarity_score has been deprecated and replaced with jaccard_score. It will be removed in version 0.23. This implementation has surprising behavior for binary and multiclass classification tasks.\n",
            "  FutureWarning)\n"
          ],
          "name": "stderr"
        }
      ]
    },
    {
      "cell_type": "code",
      "metadata": {
        "id": "ihB8gDpOyfnW"
      },
      "source": [
        "conf_DT = confusion_matrix(y_test, yhat_DT)"
      ],
      "execution_count": null,
      "outputs": []
    },
    {
      "cell_type": "code",
      "metadata": {
        "id": "vZPG1mL8yjJb",
        "outputId": "aa4bb6e5-a900-4225-df9d-748c31d11436",
        "colab": {
          "base_uri": "https://localhost:8080/",
          "height": 295
        }
      },
      "source": [
        "print('Facies classification accuracy = %f' % accuracy(conf_DT))\n",
        "display_cm(conf_DT, facies_labels, hide_zeros=True, display_metrics=True)"
      ],
      "execution_count": null,
      "outputs": [
        {
          "output_type": "stream",
          "text": [
            "Facies classification accuracy = 0.586879\n",
            "     Pred    SS  CSiS  FSiS  SiSh    MS    WS     D    PS    BS Total\n",
            "     True\n",
            "       SS    35    16     1                                        52\n",
            "     CSiS     8    71    32     1     2                           114\n",
            "     FSiS     1    31    67     1     2     1           2         105\n",
            "     SiSh                      20     3     8     1     4     1    37\n",
            "       MS           1           2    13     7     1     4          28\n",
            "       WS                 2     3    18    50          22     5   100\n",
            "        D           1     1     1     3     1    16     4     2    29\n",
            "       PS                       1     6    26     2    40     1    76\n",
            "       BS                                   1           3    19    23\n",
            "\n",
            "Precision  0.80  0.59  0.65  0.69  0.28  0.53  0.80  0.51  0.68  0.60\n",
            "   Recall  0.67  0.62  0.64  0.54  0.46  0.50  0.55  0.53  0.83  0.59\n",
            "       F1  0.73  0.61  0.64  0.61  0.35  0.52  0.65  0.52  0.75  0.59\n"
          ],
          "name": "stdout"
        }
      ]
    },
    {
      "cell_type": "code",
      "metadata": {
        "id": "HTJwkMHOyoC1",
        "outputId": "ea9ce4b5-a9b4-4f98-fe5a-764849b1f975",
        "colab": {
          "base_uri": "https://localhost:8080/",
          "height": 295
        }
      },
      "source": [
        "print('Adjacent facies classification accuracy = %f' % accuracy_adjacent(conf_DT, adjacent_facies))\n",
        "display_adj_cm(conf_DT, facies_labels, adjacent_facies, hide_zeros=True, display_metrics=True)"
      ],
      "execution_count": null,
      "outputs": [
        {
          "output_type": "stream",
          "text": [
            "Adjacent facies classification accuracy = 0.898936\n",
            "     Pred    SS  CSiS  FSiS  SiSh    MS    WS     D    PS    BS Total\n",
            "     True\n",
            "       SS    51           1                                        52\n",
            "     CSiS         111           1     2                           114\n",
            "     FSiS     1          98     1     2     1           2         105\n",
            "     SiSh                      23           8     1     4     1    37\n",
            "       MS           1                22           1     4          28\n",
            "       WS                 2     3          90                 5   100\n",
            "        D           1     1     1     3          21           2    29\n",
            "       PS                       1     6                69          76\n",
            "       BS                                   1                22    23\n",
            "\n",
            "Precision  0.98  0.98  0.96  0.77  0.63  0.90  0.91  0.87  0.73  0.90\n",
            "   Recall  0.98  0.97  0.93  0.62  0.79  0.90  0.72  0.91  0.96  0.90\n",
            "       F1  0.98  0.98  0.95  0.69  0.70  0.90  0.81  0.89  0.83  0.90\n"
          ],
          "name": "stdout"
        }
      ]
    },
    {
      "cell_type": "markdown",
      "metadata": {
        "id": "Ow5Xtsh9ywB3"
      },
      "source": [
        "# **LOGISTIC REGRESSION CLASSIFIER**"
      ]
    },
    {
      "cell_type": "code",
      "metadata": {
        "id": "JP44lXkLytWs"
      },
      "source": [
        "from sklearn.linear_model import LogisticRegression\n",
        "LR_model = LogisticRegression(C=1, max_iter=330).fit(X_train,y_train)\n",
        "LR_model\n",
        "\n",
        "yhat_LR = LR_model.predict(X_test)"
      ],
      "execution_count": null,
      "outputs": []
    },
    {
      "cell_type": "code",
      "metadata": {
        "id": "WbFDCLHmy2Ng",
        "outputId": "e19b0e82-39c8-4ed9-88c2-929d3e36a13c",
        "colab": {
          "base_uri": "https://localhost:8080/",
          "height": 107
        }
      },
      "source": [
        "jLR  = jaccard_similarity_score(y_test, yhat_LR)\n",
        "f1LR = f1_score(y_test, yhat_LR, average='weighted')\n",
        "print(\"LR Jaccard index: %.3f\" % jLR )\n",
        "print(\"LR F1-score: %.3f\" % f1LR )"
      ],
      "execution_count": null,
      "outputs": [
        {
          "output_type": "stream",
          "text": [
            "LR Jaccard index: 0.589\n",
            "LR F1-score: 0.577\n"
          ],
          "name": "stdout"
        },
        {
          "output_type": "stream",
          "text": [
            "/usr/local/lib/python3.6/dist-packages/sklearn/metrics/_classification.py:664: FutureWarning: jaccard_similarity_score has been deprecated and replaced with jaccard_score. It will be removed in version 0.23. This implementation has surprising behavior for binary and multiclass classification tasks.\n",
            "  FutureWarning)\n"
          ],
          "name": "stderr"
        }
      ]
    },
    {
      "cell_type": "code",
      "metadata": {
        "id": "LM4Z9eIez5hQ"
      },
      "source": [
        "conf_LR = confusion_matrix(y_test, yhat_LR)"
      ],
      "execution_count": null,
      "outputs": []
    },
    {
      "cell_type": "code",
      "metadata": {
        "id": "viNbWJMM0uPi",
        "outputId": "632cb39f-6b36-41ce-df1d-8abb06f7afa8",
        "colab": {
          "base_uri": "https://localhost:8080/",
          "height": 295
        }
      },
      "source": [
        "print('Facies classification accuracy = %f' % accuracy(conf_LR))\n",
        "display_cm(conf_LR, facies_labels, hide_zeros=True, display_metrics=True)"
      ],
      "execution_count": null,
      "outputs": [
        {
          "output_type": "stream",
          "text": [
            "Facies classification accuracy = 0.588652\n",
            "     Pred    SS  CSiS  FSiS  SiSh    MS    WS     D    PS    BS Total\n",
            "     True\n",
            "       SS    36    16                                              52\n",
            "     CSiS     8    82    22                 1           1         114\n",
            "     FSiS     1    44    53     2     1     1     1     2         105\n",
            "     SiSh                      18          18           1          37\n",
            "       MS                       3     1    18     1     5          28\n",
            "       WS                       3     2    71     3    20     1   100\n",
            "        D                 1     3           3    15     6     1    29\n",
            "       PS                       1     3    24     2    38     8    76\n",
            "       BS                                   1           4    18    23\n",
            "\n",
            "Precision  0.80  0.58  0.70  0.60  0.14  0.52  0.68  0.49  0.64  0.59\n",
            "   Recall  0.69  0.72  0.50  0.49  0.04  0.71  0.52  0.50  0.78  0.59\n",
            "       F1  0.74  0.64  0.59  0.54  0.06  0.60  0.59  0.50  0.71  0.58\n"
          ],
          "name": "stdout"
        }
      ]
    },
    {
      "cell_type": "code",
      "metadata": {
        "id": "ShHx7t4-0yha",
        "outputId": "b35cecaa-493d-4da8-ed88-c916b974abf7",
        "colab": {
          "base_uri": "https://localhost:8080/",
          "height": 295
        }
      },
      "source": [
        "print('Adjacent facies classification accuracy = %f' % accuracy_adjacent(conf_LR, adjacent_facies))\n",
        "display_adj_cm(conf_LR, facies_labels, adjacent_facies, hide_zeros=True, display_metrics=True)"
      ],
      "execution_count": null,
      "outputs": [
        {
          "output_type": "stream",
          "text": [
            "Adjacent facies classification accuracy = 0.913121\n",
            "     Pred    SS  CSiS  FSiS  SiSh    MS    WS     D    PS    BS Total\n",
            "     True\n",
            "       SS    52                                                    52\n",
            "     CSiS         112                       1           1         114\n",
            "     FSiS     1          97     2     1     1     1     2         105\n",
            "     SiSh                      18          18           1          37\n",
            "       MS                            22           1     5          28\n",
            "       WS                       3          96                 1   100\n",
            "        D                 1     3                24           1    29\n",
            "       PS                       1     3                72          76\n",
            "       BS                                   1                22    23\n",
            "\n",
            "Precision  0.98  1.00  0.99  0.67  0.85  0.82  0.92  0.89  0.92  0.91\n",
            "   Recall  1.00  0.98  0.92  0.49  0.79  0.96  0.83  0.95  0.96  0.91\n",
            "       F1  0.99  0.99  0.96  0.56  0.81  0.88  0.87  0.92  0.94  0.91\n"
          ],
          "name": "stdout"
        }
      ]
    },
    {
      "cell_type": "code",
      "metadata": {
        "id": "RElIQCK79YbK"
      },
      "source": [
        "acc_LR = accuracy(conf_LR)"
      ],
      "execution_count": null,
      "outputs": []
    },
    {
      "cell_type": "code",
      "metadata": {
        "id": "rc6UUT4f9eUb",
        "outputId": "24d61d13-a317-4697-da60-bd1755cd9a7e",
        "colab": {
          "base_uri": "https://localhost:8080/",
          "height": 35
        }
      },
      "source": [
        "print(acc_LR)"
      ],
      "execution_count": null,
      "outputs": [
        {
          "output_type": "stream",
          "text": [
            "0.5886524822695035\n"
          ],
          "name": "stdout"
        }
      ]
    },
    {
      "cell_type": "markdown",
      "metadata": {
        "id": "bnKG3oq408Fw"
      },
      "source": [
        "# **OBSERVATIONS**"
      ]
    },
    {
      "cell_type": "code",
      "metadata": {
        "id": "ShJsrRnF03pC",
        "outputId": "64c3b3ee-99a4-4daf-e2d3-3d6e64db9b4a",
        "colab": {
          "base_uri": "https://localhost:8080/",
          "height": 263
        }
      },
      "source": [
        "# create dictionary with calculated errors as variables\n",
        "data_frame1 ={'Model type': ['SVM', 'GPC', 'RFC', 'NNC', 'KNN', 'DT', 'LR'],\n",
        "       'Jaccard index': [jSVM, jGPC, jRFC, jNNC, jKNN, jDT, jLR],\n",
        "       'F1-Score': [f1SVM, f1GPC, f1RFC, f1NNC, f1KNN, f1DT, f1LR],\n",
        "       'Accuracy': [accuracy(confusion_mtx), accuracy(conf_GPC), accuracy(conf_RFC), accuracy(conf_NNC), accuracy(conf_KNN), accuracy(conf_DT),\n",
        "                    accuracy(conf_LR)],\n",
        "        'Adjacent Accuracy': [accuracy_adjacent(confusion_mtx, adjacent_facies), accuracy_adjacent(conf_GPC, adjacent_facies), accuracy_adjacent(conf_RFC, adjacent_facies),\n",
        "                                     accuracy_adjacent(conf_NNC, adjacent_facies), accuracy_adjacent(conf_KNN, adjacent_facies), accuracy_adjacent(conf_DT, adjacent_facies),accuracy_adjacent(conf_LR, adjacent_facies)]\n",
        "            }\n",
        "df1 = pd.DataFrame(data_frame1, columns = ['Model type','Jaccard index','F1-Score', 'Accuracy', 'Adjacent Accuracy' ] )\n",
        "df1.round(2)"
      ],
      "execution_count": null,
      "outputs": [
        {
          "output_type": "execute_result",
          "data": {
            "text/html": [
              "<div>\n",
              "<style scoped>\n",
              "    .dataframe tbody tr th:only-of-type {\n",
              "        vertical-align: middle;\n",
              "    }\n",
              "\n",
              "    .dataframe tbody tr th {\n",
              "        vertical-align: top;\n",
              "    }\n",
              "\n",
              "    .dataframe thead th {\n",
              "        text-align: right;\n",
              "    }\n",
              "</style>\n",
              "<table border=\"1\" class=\"dataframe\">\n",
              "  <thead>\n",
              "    <tr style=\"text-align: right;\">\n",
              "      <th></th>\n",
              "      <th>Model type</th>\n",
              "      <th>Jaccard index</th>\n",
              "      <th>F1-Score</th>\n",
              "      <th>Accuracy</th>\n",
              "      <th>Adjacent Accuracy</th>\n",
              "    </tr>\n",
              "  </thead>\n",
              "  <tbody>\n",
              "    <tr>\n",
              "      <th>0</th>\n",
              "      <td>SVM</td>\n",
              "      <td>0.74</td>\n",
              "      <td>0.75</td>\n",
              "      <td>0.74</td>\n",
              "      <td>0.93</td>\n",
              "    </tr>\n",
              "    <tr>\n",
              "      <th>1</th>\n",
              "      <td>GPC</td>\n",
              "      <td>0.66</td>\n",
              "      <td>0.66</td>\n",
              "      <td>0.66</td>\n",
              "      <td>0.93</td>\n",
              "    </tr>\n",
              "    <tr>\n",
              "      <th>2</th>\n",
              "      <td>RFC</td>\n",
              "      <td>0.68</td>\n",
              "      <td>0.68</td>\n",
              "      <td>0.68</td>\n",
              "      <td>0.93</td>\n",
              "    </tr>\n",
              "    <tr>\n",
              "      <th>3</th>\n",
              "      <td>NNC</td>\n",
              "      <td>0.70</td>\n",
              "      <td>0.70</td>\n",
              "      <td>0.70</td>\n",
              "      <td>0.93</td>\n",
              "    </tr>\n",
              "    <tr>\n",
              "      <th>4</th>\n",
              "      <td>KNN</td>\n",
              "      <td>0.72</td>\n",
              "      <td>0.72</td>\n",
              "      <td>0.72</td>\n",
              "      <td>0.92</td>\n",
              "    </tr>\n",
              "    <tr>\n",
              "      <th>5</th>\n",
              "      <td>DT</td>\n",
              "      <td>0.59</td>\n",
              "      <td>0.59</td>\n",
              "      <td>0.59</td>\n",
              "      <td>0.90</td>\n",
              "    </tr>\n",
              "    <tr>\n",
              "      <th>6</th>\n",
              "      <td>LR</td>\n",
              "      <td>0.59</td>\n",
              "      <td>0.58</td>\n",
              "      <td>0.59</td>\n",
              "      <td>0.91</td>\n",
              "    </tr>\n",
              "  </tbody>\n",
              "</table>\n",
              "</div>"
            ],
            "text/plain": [
              "  Model type  Jaccard index  F1-Score  Accuracy  Adjacent Accuracy\n",
              "0        SVM           0.74      0.75      0.74               0.93\n",
              "1        GPC           0.66      0.66      0.66               0.93\n",
              "2        RFC           0.68      0.68      0.68               0.93\n",
              "3        NNC           0.70      0.70      0.70               0.93\n",
              "4        KNN           0.72      0.72      0.72               0.92\n",
              "5         DT           0.59      0.59      0.59               0.90\n",
              "6         LR           0.59      0.58      0.59               0.91"
            ]
          },
          "metadata": {
            "tags": []
          },
          "execution_count": 68
        }
      ]
    },
    {
      "cell_type": "code",
      "metadata": {
        "id": "nLuDIJNY0_fV"
      },
      "source": [
        "\n",
        "y_blind = blind['Facies'].values"
      ],
      "execution_count": null,
      "outputs": []
    },
    {
      "cell_type": "code",
      "metadata": {
        "id": "17bYHw-G3q4v"
      },
      "source": [
        "blind_features = blind.drop(['Formation', 'Well Name', 'Depth','Facies','FaciesLabels'], axis=1)"
      ],
      "execution_count": null,
      "outputs": []
    },
    {
      "cell_type": "code",
      "metadata": {
        "id": "EbtvjrWn3tCG"
      },
      "source": [
        "\n",
        "X_blind = scaler.transform(blind_features)"
      ],
      "execution_count": null,
      "outputs": []
    },
    {
      "cell_type": "code",
      "metadata": {
        "id": "pSWy-zteSD3n"
      },
      "source": [
        "#SVM\n",
        "yhat_blind_SVM = SVM_model.predict(X_blind)\n",
        "blind['SVM_Pred'] = yhat_blind_SVM\n",
        "conf_blind_SVM = confusion_matrix(y_blind, yhat_blind_SVM)\n",
        "\n",
        "#GPC\n",
        "yhat_blind_GPC = GPC_model.predict(X_blind)\n",
        "blind['GPC_Pred'] = yhat_blind_GPC\n",
        "conf_blind_GPC = confusion_matrix(y_blind, yhat_blind_GPC)\n",
        "\n",
        "#RFC\n",
        "yhat_blind_RFC = RFC_model.predict(X_blind)\n",
        "blind['RFC_Pred'] = yhat_blind_RFC\n",
        "conf_blind_RFC = confusion_matrix(y_blind, yhat_blind_RFC)\n",
        "\n",
        "#NNC\n",
        "yhat_blind_NNC = NNC_model.predict(X_blind)\n",
        "blind['NNC_Pred'] = yhat_blind_NNC\n",
        "conf_blind_NNC = confusion_matrix(y_blind, yhat_blind_NNC)\n",
        "\n",
        "#KNN\n",
        "yhat_blind_KNN = KNN_model.predict(X_blind)\n",
        "blind['KNN_Pred'] = yhat_blind_KNN\n",
        "conf_blind_KNN = confusion_matrix(y_blind, yhat_blind_KNN)\n",
        "\n",
        "#DT\n",
        "yhat_blind_DT = DT_model.predict(X_blind)\n",
        "blind['DT_Pred'] = yhat_blind_DT\n",
        "conf_blind_DT = confusion_matrix(y_blind, yhat_blind_DT)\n",
        "\n",
        "#LR\n",
        "yhat_blind_LR = LR_model.predict(X_blind)\n",
        "blind['LR_Pred'] = yhat_blind_LR\n",
        "conf_blind_LR = confusion_matrix(y_blind, yhat_blind_LR)"
      ],
      "execution_count": null,
      "outputs": []
    },
    {
      "cell_type": "code",
      "metadata": {
        "id": "jhGWqx6V3zen",
        "outputId": "ca29fad9-6dd4-4409-cd82-6d2b80bd124e",
        "colab": {
          "base_uri": "https://localhost:8080/",
          "height": 315
        }
      },
      "source": [
        "#SVM\n",
        "jSVM_b =  jaccard_similarity_score(y_blind, yhat_blind_SVM)\n",
        "f1SVM_b = f1_score(y_blind, yhat_blind_SVM, average='weighted')\n",
        "print(\"SVM Jaccard index for blind well prediction: %.3f\" %jSVM_b)\n",
        "print(\"SVM F1-score for blind well prediction: %.3f\" %f1SVM_b )\n",
        "\n",
        "#GPC\n",
        "jGPC_b =jaccard_similarity_score(y_blind, yhat_blind_GPC)\n",
        "f1GPC_b =f1_score(y_blind, yhat_blind_GPC, average='weighted')\n",
        "print(\"GPC Jaccard index for blind well prediction: %.3f\" %jGPC_b )\n",
        "print(\"GPC F1-score for blind well prediction: %.3f\" % f1GPC_b)\n",
        "\n",
        "#RFC\n",
        "jRFC_b =jaccard_similarity_score(y_blind, yhat_blind_RFC)\n",
        "f1RFC_b=f1_score(y_blind, yhat_blind_RFC, average='weighted')\n",
        "print(\"RFC Jaccard index for blind well prediction: %.3f\" % jRFC_b)\n",
        "print(\"RFC F1-score for blind well prediction: %.3f\" % f1RFC_b)\n",
        "\n",
        "#NNC\n",
        "jNNC_b  =jaccard_similarity_score(y_blind, yhat_blind_NNC)\n",
        "f1NNC_b =f1_score(y_blind, yhat_blind_NNC, average='weighted')\n",
        "print(\"NNC Jaccard index for blind well prediction: %.3f\" %jNNC_b )\n",
        "print(\"NNC F1-score for blind well prediction: %.3f\" %f1NNC_b )\n",
        "\n",
        "#KNN\n",
        "jKNN_b = jaccard_similarity_score(y_blind, yhat_blind_KNN)\n",
        "f1KNN_b = f1_score(y_blind, yhat_blind_KNN, average='weighted')\n",
        "print(\"KNN Jaccard index for blind well prediction: %.3f\" % jKNN_b)\n",
        "print(\"KNN F1-score for blind well prediction: %.3f\" %f1KNN_b  )\n",
        "\n",
        "#DT\n",
        "jDT_b = jaccard_similarity_score(y_blind, yhat_blind_DT)\n",
        "f1DT_b =f1_score(y_blind, yhat_blind_DT, average='weighted')\n",
        "print(\"DT Jaccard index for blind well prediction: %.3f\" % jDT_b)\n",
        "print(\"DT F1-score for blind well prediction: %.3f\" % f1DT_b )\n",
        "\n",
        "#LR\n",
        "jLR_b  = jaccard_similarity_score(y_blind, yhat_blind_LR)\n",
        "f1LR_b = f1_score(y_blind, yhat_blind_LR, average='weighted')\n",
        "print(\"LR Jaccard index for blind well prediction: %.3f\" % jLR_b)\n",
        "print(\"LR F1-score for blind well prediction: %.3f\" %f1LR_b )"
      ],
      "execution_count": null,
      "outputs": [
        {
          "output_type": "stream",
          "text": [
            "SVM Jaccard index for blind well prediction: 0.458\n",
            "SVM F1-score for blind well prediction: 0.489\n",
            "GPC Jaccard index for blind well prediction: 0.470\n",
            "GPC F1-score for blind well prediction: 0.500\n",
            "RFC Jaccard index for blind well prediction: 0.487\n",
            "RFC F1-score for blind well prediction: 0.520\n",
            "NNC Jaccard index for blind well prediction: 0.504\n",
            "NNC F1-score for blind well prediction: 0.531\n",
            "KNN Jaccard index for blind well prediction: 0.460\n",
            "KNN F1-score for blind well prediction: 0.507\n",
            "DT Jaccard index for blind well prediction: 0.427\n",
            "DT F1-score for blind well prediction: 0.470\n",
            "LR Jaccard index for blind well prediction: 0.460\n",
            "LR F1-score for blind well prediction: 0.481\n"
          ],
          "name": "stdout"
        },
        {
          "output_type": "stream",
          "text": [
            "/usr/local/lib/python3.6/dist-packages/sklearn/metrics/_classification.py:664: FutureWarning: jaccard_similarity_score has been deprecated and replaced with jaccard_score. It will be removed in version 0.23. This implementation has surprising behavior for binary and multiclass classification tasks.\n",
            "  FutureWarning)\n"
          ],
          "name": "stderr"
        }
      ]
    },
    {
      "cell_type": "code",
      "metadata": {
        "id": "9Nii6xTg4EW2",
        "outputId": "695792d3-e4fe-4c41-af25-f0e8bee00cc1",
        "colab": {
          "base_uri": "https://localhost:8080/",
          "height": 263
        }
      },
      "source": [
        "data_frame2 ={'Model type': ['SVM', 'GPC', 'RFC', 'NNC', 'KNN', 'DT', 'LR'],\n",
        "       'Jaccard index': [jSVM_b, jGPC_b, jRFC_b, jNNC_b, jKNN_b, jDT_b, jLR_b],\n",
        "       'F1-Score': [f1SVM_b, f1GPC_b, f1RFC_b, f1NNC_b, f1KNN_b, f1DT_b, f1LR_b],\n",
        "       'Accuracy': [accuracy(conf_blind_SVM), accuracy(conf_blind_GPC), accuracy(conf_blind_RFC), accuracy(conf_blind_NNC), accuracy(conf_blind_KNN),\n",
        "                    accuracy(conf_blind_DT),accuracy(conf_blind_LR)],\n",
        "        'Adjacent Accuracy': [accuracy_adjacent(conf_blind_SVM, adjacent_facies), accuracy_adjacent(conf_blind_GPC, adjacent_facies), \n",
        "                              accuracy_adjacent(conf_blind_RFC, adjacent_facies),accuracy_adjacent(conf_blind_NNC, adjacent_facies), \n",
        "                              accuracy_adjacent(conf_blind_KNN, adjacent_facies), accuracy_adjacent(conf_blind_DT, adjacent_facies),\n",
        "                              accuracy_adjacent(conf_blind_LR, adjacent_facies)]\n",
        "            }\n",
        "df2 = pd.DataFrame(data_frame2, columns = ['Model type','Jaccard index','F1-Score', 'Accuracy', 'Adjacent Accuracy' ] )\n",
        "df2.round(2)"
      ],
      "execution_count": null,
      "outputs": [
        {
          "output_type": "execute_result",
          "data": {
            "text/html": [
              "<div>\n",
              "<style scoped>\n",
              "    .dataframe tbody tr th:only-of-type {\n",
              "        vertical-align: middle;\n",
              "    }\n",
              "\n",
              "    .dataframe tbody tr th {\n",
              "        vertical-align: top;\n",
              "    }\n",
              "\n",
              "    .dataframe thead th {\n",
              "        text-align: right;\n",
              "    }\n",
              "</style>\n",
              "<table border=\"1\" class=\"dataframe\">\n",
              "  <thead>\n",
              "    <tr style=\"text-align: right;\">\n",
              "      <th></th>\n",
              "      <th>Model type</th>\n",
              "      <th>Jaccard index</th>\n",
              "      <th>F1-Score</th>\n",
              "      <th>Accuracy</th>\n",
              "      <th>Adjacent Accuracy</th>\n",
              "    </tr>\n",
              "  </thead>\n",
              "  <tbody>\n",
              "    <tr>\n",
              "      <th>0</th>\n",
              "      <td>SVM</td>\n",
              "      <td>0.46</td>\n",
              "      <td>0.49</td>\n",
              "      <td>0.46</td>\n",
              "      <td>0.81</td>\n",
              "    </tr>\n",
              "    <tr>\n",
              "      <th>1</th>\n",
              "      <td>GPC</td>\n",
              "      <td>0.47</td>\n",
              "      <td>0.50</td>\n",
              "      <td>0.47</td>\n",
              "      <td>0.83</td>\n",
              "    </tr>\n",
              "    <tr>\n",
              "      <th>2</th>\n",
              "      <td>RFC</td>\n",
              "      <td>0.49</td>\n",
              "      <td>0.52</td>\n",
              "      <td>0.49</td>\n",
              "      <td>0.84</td>\n",
              "    </tr>\n",
              "    <tr>\n",
              "      <th>3</th>\n",
              "      <td>NNC</td>\n",
              "      <td>0.50</td>\n",
              "      <td>0.53</td>\n",
              "      <td>0.50</td>\n",
              "      <td>0.86</td>\n",
              "    </tr>\n",
              "    <tr>\n",
              "      <th>4</th>\n",
              "      <td>KNN</td>\n",
              "      <td>0.46</td>\n",
              "      <td>0.51</td>\n",
              "      <td>0.46</td>\n",
              "      <td>0.84</td>\n",
              "    </tr>\n",
              "    <tr>\n",
              "      <th>5</th>\n",
              "      <td>DT</td>\n",
              "      <td>0.43</td>\n",
              "      <td>0.47</td>\n",
              "      <td>0.43</td>\n",
              "      <td>0.83</td>\n",
              "    </tr>\n",
              "    <tr>\n",
              "      <th>6</th>\n",
              "      <td>LR</td>\n",
              "      <td>0.46</td>\n",
              "      <td>0.48</td>\n",
              "      <td>0.46</td>\n",
              "      <td>0.86</td>\n",
              "    </tr>\n",
              "  </tbody>\n",
              "</table>\n",
              "</div>"
            ],
            "text/plain": [
              "  Model type  Jaccard index  F1-Score  Accuracy  Adjacent Accuracy\n",
              "0        SVM           0.46      0.49      0.46               0.81\n",
              "1        GPC           0.47      0.50      0.47               0.83\n",
              "2        RFC           0.49      0.52      0.49               0.84\n",
              "3        NNC           0.50      0.53      0.50               0.86\n",
              "4        KNN           0.46      0.51      0.46               0.84\n",
              "5         DT           0.43      0.47      0.43               0.83\n",
              "6         LR           0.46      0.48      0.46               0.86"
            ]
          },
          "metadata": {
            "tags": []
          },
          "execution_count": 76
        }
      ]
    },
    {
      "cell_type": "code",
      "metadata": {
        "id": "kjztkESQ4JN-"
      },
      "source": [
        "def compare_facies_plot(logs, compadre, facies_colors):\n",
        "    #make sure logs are sorted by depth\n",
        "    logs = logs.sort_values(by='Depth')\n",
        "    cmap_facies = colors.ListedColormap(\n",
        "            facies_colors[0:len(facies_colors)], 'indexed')\n",
        "    \n",
        "    ztop=logs.Depth.min(); zbot=logs.Depth.max()\n",
        "    \n",
        "    cluster1 = np.repeat(np.expand_dims(logs['Facies'].values,1), 100, 1)\n",
        "    cluster2 = np.repeat(np.expand_dims(logs[compadre].values,1), 100, 1)\n",
        "    \n",
        "    f, ax = plt.subplots(nrows=1, ncols=7, figsize=(12, 6))\n",
        "    ax[0].plot(logs.GR, logs.Depth, '-g')\n",
        "    ax[1].plot(logs.ILD_log10, logs.Depth, '-')\n",
        "    ax[2].plot(logs.DeltaPHI, logs.Depth, '-', color='0.5')\n",
        "    ax[3].plot(logs.PHIND, logs.Depth, '-', color='r')\n",
        "    ax[4].plot(logs.PE, logs.Depth, '-', color='black')\n",
        "    im1 = ax[5].imshow(cluster1, interpolation='none', aspect='auto',\n",
        "                    cmap=cmap_facies,vmin=1,vmax=9)\n",
        "    im2 = ax[6].imshow(cluster2, interpolation='none', aspect='auto',\n",
        "                    cmap=cmap_facies,vmin=1,vmax=9)\n",
        "    \n",
        "    divider = make_axes_locatable(ax[6])\n",
        "    cax = divider.append_axes(\"right\", size=\"20%\", pad=0.05)\n",
        "    cbar=plt.colorbar(im2, cax=cax)\n",
        "    cbar.set_label((5*' ').join([' SS ', 'CSiS', 'FSiS', \n",
        "                                'SiSh', ' MS ', ' WS ', ' D  ', \n",
        "                                ' PS ', ' BS ']))\n",
        "    cbar.set_ticks(range(0,1)); cbar.set_ticklabels('')\n",
        "    \n",
        "    for i in range(len(ax)-2):\n",
        "        ax[i].set_ylim(ztop,zbot)\n",
        "        ax[i].invert_yaxis()\n",
        "        ax[i].grid()\n",
        "        ax[i].locator_params(axis='x', nbins=3)\n",
        "    \n",
        "    ax[0].set_xlabel(\"GR\")\n",
        "    ax[0].set_xlim(logs.GR.min(),logs.GR.max())\n",
        "    ax[1].set_xlabel(\"ILD_log10\")\n",
        "    ax[1].set_xlim(logs.ILD_log10.min(),logs.ILD_log10.max())\n",
        "    ax[2].set_xlabel(\"DeltaPHI\")\n",
        "    ax[2].set_xlim(logs.DeltaPHI.min(),logs.DeltaPHI.max())\n",
        "    ax[3].set_xlabel(\"PHIND\")\n",
        "    ax[3].set_xlim(logs.PHIND.min(),logs.PHIND.max())\n",
        "    ax[4].set_xlabel(\"PE\")\n",
        "    ax[4].set_xlim(logs.PE.min(),logs.PE.max())\n",
        "    ax[5].set_xlabel('Facies')\n",
        "    ax[6].set_xlabel(compadre)\n",
        "    \n",
        "    ax[1].set_yticklabels([]); ax[2].set_yticklabels([]); ax[3].set_yticklabels([])\n",
        "    ax[4].set_yticklabels([]); ax[5].set_yticklabels([]); ax[6].set_yticklabels([])\n",
        "    ax[5].set_xticklabels([])\n",
        "    ax[6].set_xticklabels([])\n",
        "    f.suptitle('Well: %s'%logs.iloc[0]['Well Name'], fontsize=14,y=0.94)\n",
        "    "
      ],
      "execution_count": null,
      "outputs": []
    },
    {
      "cell_type": "code",
      "metadata": {
        "id": "E7kwHz5YBsN1",
        "outputId": "b89aaa8a-8364-431c-b719-3c93d3e4cd24",
        "colab": {
          "base_uri": "https://localhost:8080/",
          "height": 415
        }
      },
      "source": [
        "#let's plot KNN result\n",
        "compare_facies_plot(blind, 'NNC_Pred', facies_colors)\n",
        "#plt.savefig(\"drive/My Drive/seminar/NNC_comp.png\", dpi=400)"
      ],
      "execution_count": null,
      "outputs": [
        {
          "output_type": "display_data",
          "data": {
            "image/png": "[encoded data removed]",
            "text/plain": [
              "<Figure size 864x432 with 8 Axes>"
            ]
          },
          "metadata": {
            "tags": [],
            "needs_background": "light"
          }
        }
      ]
    },
    {
      "cell_type": "code",
      "metadata": {
        "id": "qQPuwRUpBwLf"
      },
      "source": [
        "\n",
        "def compare_all_facies(logs, Pred1, Pred2, Pred3, Pred4, Pred5, Pred6, Pred7, facies_colors):\n",
        "    #make sure logs are sorted by depth\n",
        "    logs = logs.sort_values(by='Depth')\n",
        "    cmap_facies = colors.ListedColormap(facies_colors[0:len(facies_colors)], 'indexed')\n",
        "    ztop=logs.Depth.min(); zbot=logs.Depth.max()\n",
        "    \n",
        "    cluster1 = np.repeat(np.expand_dims(logs['Facies'].values,1), 100, 1)\n",
        "    cluster2 = np.repeat(np.expand_dims(logs[Pred1].values,1), 100, 1)\n",
        "    cluster3 = np.repeat(np.expand_dims(logs[Pred2].values,1), 100, 1)\n",
        "    cluster4 = np.repeat(np.expand_dims(logs[Pred3].values,1), 100, 1)\n",
        "    cluster5 = np.repeat(np.expand_dims(logs[Pred4].values,1), 100, 1)\n",
        "    cluster6 = np.repeat(np.expand_dims(logs[Pred5].values,1), 100, 1)\n",
        "    cluster7 = np.repeat(np.expand_dims(logs[Pred6].values,1), 100, 1)\n",
        "    cluster8 = np.repeat(np.expand_dims(logs[Pred7].values,1), 100, 1)\n",
        "\n",
        "   \n",
        "    f, ax = plt.subplots(nrows=1, ncols=8, figsize=(12, 6))\n",
        "\n",
        "    im1 = ax[0].imshow(cluster1, interpolation='none', aspect='auto',\n",
        "                       cmap=cmap_facies,vmin=1,vmax=9)\n",
        "    im2 = ax[1].imshow(cluster2, interpolation='none', aspect='auto',\n",
        "                       cmap=cmap_facies,vmin=1,vmax=9)\n",
        "    im3 = ax[2].imshow(cluster3, interpolation='none', aspect='auto',\n",
        "                       cmap=cmap_facies,vmin=1,vmax=9)\n",
        "    im4 = ax[3].imshow(cluster4, interpolation='none', aspect='auto',\n",
        "                       cmap=cmap_facies,vmin=1,vmax=9)\n",
        "    im5 = ax[4].imshow(cluster5, interpolation='none', aspect='auto',\n",
        "                       cmap=cmap_facies,vmin=1,vmax=9)\n",
        "    im6 = ax[5].imshow(cluster6, interpolation='none', aspect='auto',\n",
        "                       cmap=cmap_facies,vmin=1,vmax=9)\n",
        "    im7 = ax[6].imshow(cluster7, interpolation='none', aspect='auto',\n",
        "                       cmap=cmap_facies,vmin=1,vmax=9)\n",
        "    im8 = ax[7].imshow(cluster8, interpolation='none', aspect='auto',\n",
        "                       cmap=cmap_facies,vmin=1,vmax=9)\n",
        "       \n",
        "    \n",
        "    divider = make_axes_locatable(ax[7])\n",
        "    cax = divider.append_axes(\"right\", size=\"10%\", pad=0.05)\n",
        "    cbar=plt.colorbar(im8, cax=cax)\n",
        "    cbar.set_label((5*' ').join([' SS ', 'CSiS', 'FSiS', \n",
        "                                'SiSh', ' MS ', ' WS ', ' D  ', \n",
        "                                ' PS ', ' BS ']))\n",
        "    cbar.set_ticks(range(0,1)); cbar.set_ticklabels('')\n",
        "    \n",
        "    for i in range(len(ax)-8):\n",
        "        ax[i].set_ylim(ztop,zbot)\n",
        "        ax[i].invert_yaxis()\n",
        "        ax[i].grid()\n",
        "        ax[i].locator_params(axis='x', nbins=2)\n",
        "    \n",
        "    ax[0].set_xlabel('Facies'); ax[1].set_xlabel(Pred1); ax[2].set_xlabel(Pred2)\n",
        "    ax[3].set_xlabel(Pred3); ax[4].set_xlabel(Pred4); ax[5].set_xlabel(Pred5)\n",
        "    ax[6].set_xlabel(Pred6); ax[7].set_xlabel(Pred7)\n",
        "    \n",
        "    #ax[0].set_yticklabels([]) ;\n",
        "    ax[1].set_yticklabels([]); ax[2].set_yticklabels([]); ax[3].set_yticklabels([]) \n",
        "    ax[4].set_yticklabels([]); ax[5].set_yticklabels([]); ax[6].set_yticklabels([])\n",
        "    ax[7].set_yticklabels([])\n",
        "    \n",
        "    ax[0].set_xticklabels([]); ax[1].set_xticklabels([]); ax[2].set_xticklabels([])\n",
        "    ax[3].set_xticklabels([]); ax[4].set_xticklabels([]); ax[5].set_xticklabels([])\n",
        "    ax[6].set_xticklabels([]); ax[7].set_xticklabels([])\n",
        "\n",
        "    f.suptitle('Various model predictions in well: %s'%logs.iloc[0]['Well Name'], fontsize=14,y=0.94)"
      ],
      "execution_count": null,
      "outputs": []
    },
    {
      "cell_type": "code",
      "metadata": {
        "id": "fELgWmHPB1FN",
        "outputId": "bb3687b2-1d81-4d05-d480-f4e76b87a88c",
        "colab": {
          "base_uri": "https://localhost:8080/",
          "height": 405
        }
      },
      "source": [
        "\n",
        "compare_all_facies(blind,'SVM_Pred','GPC_Pred','RFC_Pred', 'NNC_Pred', 'KNN_Pred','DT_Pred', 'LR_Pred', facies_colors)\n",
        "#plt.savefig(\"drive/My Drive/seminar/Compo.png\", dpi=400)"
      ],
      "execution_count": null,
      "outputs": [
        {
          "output_type": "display_data",
          "data": {
            "image/png": "[encoded data removed]",
            "text/plain": [
              "<Figure size 864x432 with 9 Axes>"
            ]
          },
          "metadata": {
            "tags": [],
            "needs_background": "light"
          }
        }
      ]
    },
    {
      "cell_type": "markdown",
      "metadata": {
        "id": "DKk-uu-hRCKU"
      },
      "source": [
        "# **NEW DATA**"
      ]
    },
    {
      "cell_type": "code",
      "metadata": {
        "id": "s8uoMFF-B7Cu"
      },
      "source": [
        "well_data = pd.read_csv('drive/My Drive/seminar/validation_data_nofacies.csv')\n",
        "well_data['Well Name'] = well_data['Well Name'].astype('category')\n",
        "well_features = well_data.drop(['Formation', 'Well Name', 'Depth'], axis=1)"
      ],
      "execution_count": null,
      "outputs": []
    },
    {
      "cell_type": "code",
      "metadata": {
        "id": "X3uQLXrlRIld"
      },
      "source": [
        "X_unknown = scaler.transform(well_features)"
      ],
      "execution_count": null,
      "outputs": []
    },
    {
      "cell_type": "code",
      "metadata": {
        "id": "GyuZZxh4RMJ-",
        "outputId": "7fa8db3f-aa27-4167-cefe-c659a3a7d796",
        "colab": {
          "base_uri": "https://localhost:8080/",
          "height": 415
        }
      },
      "source": [
        "\n",
        "#predict facies of unclassified data\n",
        "y_unknown = NNC_model.predict(X_unknown)\n",
        "well_data['Facies'] = y_unknown\n",
        "well_data"
      ],
      "execution_count": null,
      "outputs": [
        {
          "output_type": "execute_result",
          "data": {
            "text/html": [
              "<div>\n",
              "<style scoped>\n",
              "    .dataframe tbody tr th:only-of-type {\n",
              "        vertical-align: middle;\n",
              "    }\n",
              "\n",
              "    .dataframe tbody tr th {\n",
              "        vertical-align: top;\n",
              "    }\n",
              "\n",
              "    .dataframe thead th {\n",
              "        text-align: right;\n",
              "    }\n",
              "</style>\n",
              "<table border=\"1\" class=\"dataframe\">\n",
              "  <thead>\n",
              "    <tr style=\"text-align: right;\">\n",
              "      <th></th>\n",
              "      <th>Formation</th>\n",
              "      <th>Well Name</th>\n",
              "      <th>Depth</th>\n",
              "      <th>GR</th>\n",
              "      <th>ILD_log10</th>\n",
              "      <th>DeltaPHI</th>\n",
              "      <th>PHIND</th>\n",
              "      <th>PE</th>\n",
              "      <th>NM_M</th>\n",
              "      <th>RELPOS</th>\n",
              "      <th>Facies</th>\n",
              "    </tr>\n",
              "  </thead>\n",
              "  <tbody>\n",
              "    <tr>\n",
              "      <th>0</th>\n",
              "      <td>A1 SH</td>\n",
              "      <td>STUART</td>\n",
              "      <td>2808.0</td>\n",
              "      <td>66.276</td>\n",
              "      <td>0.630</td>\n",
              "      <td>3.300</td>\n",
              "      <td>10.650</td>\n",
              "      <td>3.591</td>\n",
              "      <td>1</td>\n",
              "      <td>1.000</td>\n",
              "      <td>3</td>\n",
              "    </tr>\n",
              "    <tr>\n",
              "      <th>1</th>\n",
              "      <td>A1 SH</td>\n",
              "      <td>STUART</td>\n",
              "      <td>2808.5</td>\n",
              "      <td>77.252</td>\n",
              "      <td>0.585</td>\n",
              "      <td>6.500</td>\n",
              "      <td>11.950</td>\n",
              "      <td>3.341</td>\n",
              "      <td>1</td>\n",
              "      <td>0.978</td>\n",
              "      <td>3</td>\n",
              "    </tr>\n",
              "    <tr>\n",
              "      <th>2</th>\n",
              "      <td>A1 SH</td>\n",
              "      <td>STUART</td>\n",
              "      <td>2809.0</td>\n",
              "      <td>82.899</td>\n",
              "      <td>0.566</td>\n",
              "      <td>9.400</td>\n",
              "      <td>13.600</td>\n",
              "      <td>3.064</td>\n",
              "      <td>1</td>\n",
              "      <td>0.956</td>\n",
              "      <td>2</td>\n",
              "    </tr>\n",
              "    <tr>\n",
              "      <th>3</th>\n",
              "      <td>A1 SH</td>\n",
              "      <td>STUART</td>\n",
              "      <td>2809.5</td>\n",
              "      <td>80.671</td>\n",
              "      <td>0.593</td>\n",
              "      <td>9.500</td>\n",
              "      <td>13.250</td>\n",
              "      <td>2.977</td>\n",
              "      <td>1</td>\n",
              "      <td>0.933</td>\n",
              "      <td>3</td>\n",
              "    </tr>\n",
              "    <tr>\n",
              "      <th>4</th>\n",
              "      <td>A1 SH</td>\n",
              "      <td>STUART</td>\n",
              "      <td>2810.0</td>\n",
              "      <td>75.971</td>\n",
              "      <td>0.638</td>\n",
              "      <td>8.700</td>\n",
              "      <td>12.350</td>\n",
              "      <td>3.020</td>\n",
              "      <td>1</td>\n",
              "      <td>0.911</td>\n",
              "      <td>3</td>\n",
              "    </tr>\n",
              "    <tr>\n",
              "      <th>...</th>\n",
              "      <td>...</td>\n",
              "      <td>...</td>\n",
              "      <td>...</td>\n",
              "      <td>...</td>\n",
              "      <td>...</td>\n",
              "      <td>...</td>\n",
              "      <td>...</td>\n",
              "      <td>...</td>\n",
              "      <td>...</td>\n",
              "      <td>...</td>\n",
              "      <td>...</td>\n",
              "    </tr>\n",
              "    <tr>\n",
              "      <th>825</th>\n",
              "      <td>C SH</td>\n",
              "      <td>CRAWFORD</td>\n",
              "      <td>3158.5</td>\n",
              "      <td>86.078</td>\n",
              "      <td>0.554</td>\n",
              "      <td>5.040</td>\n",
              "      <td>16.150</td>\n",
              "      <td>3.161</td>\n",
              "      <td>1</td>\n",
              "      <td>0.639</td>\n",
              "      <td>3</td>\n",
              "    </tr>\n",
              "    <tr>\n",
              "      <th>826</th>\n",
              "      <td>C SH</td>\n",
              "      <td>CRAWFORD</td>\n",
              "      <td>3159.0</td>\n",
              "      <td>88.855</td>\n",
              "      <td>0.539</td>\n",
              "      <td>5.560</td>\n",
              "      <td>16.750</td>\n",
              "      <td>3.118</td>\n",
              "      <td>1</td>\n",
              "      <td>0.611</td>\n",
              "      <td>2</td>\n",
              "    </tr>\n",
              "    <tr>\n",
              "      <th>827</th>\n",
              "      <td>C SH</td>\n",
              "      <td>CRAWFORD</td>\n",
              "      <td>3159.5</td>\n",
              "      <td>90.490</td>\n",
              "      <td>0.530</td>\n",
              "      <td>6.360</td>\n",
              "      <td>16.780</td>\n",
              "      <td>3.168</td>\n",
              "      <td>1</td>\n",
              "      <td>0.583</td>\n",
              "      <td>2</td>\n",
              "    </tr>\n",
              "    <tr>\n",
              "      <th>828</th>\n",
              "      <td>C SH</td>\n",
              "      <td>CRAWFORD</td>\n",
              "      <td>3160.0</td>\n",
              "      <td>90.975</td>\n",
              "      <td>0.522</td>\n",
              "      <td>7.035</td>\n",
              "      <td>16.995</td>\n",
              "      <td>3.154</td>\n",
              "      <td>1</td>\n",
              "      <td>0.556</td>\n",
              "      <td>2</td>\n",
              "    </tr>\n",
              "    <tr>\n",
              "      <th>829</th>\n",
              "      <td>C SH</td>\n",
              "      <td>CRAWFORD</td>\n",
              "      <td>3160.5</td>\n",
              "      <td>90.108</td>\n",
              "      <td>0.513</td>\n",
              "      <td>7.505</td>\n",
              "      <td>17.595</td>\n",
              "      <td>3.125</td>\n",
              "      <td>1</td>\n",
              "      <td>0.528</td>\n",
              "      <td>2</td>\n",
              "    </tr>\n",
              "  </tbody>\n",
              "</table>\n",
              "<p>830 rows × 11 columns</p>\n",
              "</div>"
            ],
            "text/plain": [
              "    Formation Well Name   Depth      GR  ...     PE  NM_M  RELPOS  Facies\n",
              "0       A1 SH    STUART  2808.0  66.276  ...  3.591     1   1.000       3\n",
              "1       A1 SH    STUART  2808.5  77.252  ...  3.341     1   0.978       3\n",
              "2       A1 SH    STUART  2809.0  82.899  ...  3.064     1   0.956       2\n",
              "3       A1 SH    STUART  2809.5  80.671  ...  2.977     1   0.933       3\n",
              "4       A1 SH    STUART  2810.0  75.971  ...  3.020     1   0.911       3\n",
              "..        ...       ...     ...     ...  ...    ...   ...     ...     ...\n",
              "825      C SH  CRAWFORD  3158.5  86.078  ...  3.161     1   0.639       3\n",
              "826      C SH  CRAWFORD  3159.0  88.855  ...  3.118     1   0.611       2\n",
              "827      C SH  CRAWFORD  3159.5  90.490  ...  3.168     1   0.583       2\n",
              "828      C SH  CRAWFORD  3160.0  90.975  ...  3.154     1   0.556       2\n",
              "829      C SH  CRAWFORD  3160.5  90.108  ...  3.125     1   0.528       2\n",
              "\n",
              "[830 rows x 11 columns]"
            ]
          },
          "metadata": {
            "tags": []
          },
          "execution_count": 86
        }
      ]
    },
    {
      "cell_type": "code",
      "metadata": {
        "id": "GJkazg4MRPvQ",
        "outputId": "36d27547-2c9e-4101-8ba1-a34db26f43b5",
        "colab": {
          "base_uri": "https://localhost:8080/",
          "height": 52
        }
      },
      "source": [
        "well_data['Well Name'].unique()"
      ],
      "execution_count": null,
      "outputs": [
        {
          "output_type": "execute_result",
          "data": {
            "text/plain": [
              "[STUART, CRAWFORD]\n",
              "Categories (2, object): [STUART, CRAWFORD]"
            ]
          },
          "metadata": {
            "tags": []
          },
          "execution_count": 87
        }
      ]
    },
    {
      "cell_type": "code",
      "metadata": {
        "id": "5yPQxuOqRexK",
        "outputId": "a50f5bf3-f07b-4b49-a538-570aba8bbcef",
        "colab": {
          "base_uri": "https://localhost:8080/",
          "height": 813
        }
      },
      "source": [
        "make_facies_log_plot(\n",
        "    well_data[well_data['Well Name'] == 'STUART'],\n",
        "    facies_colors=facies_colors)\n",
        "#plt.savefig(\"drive/My Drive/seminar/stuart.png\", dpi=400)\n",
        "\n",
        "make_facies_log_plot(\n",
        "    well_data[well_data['Well Name'] == 'CRAWFORD'],\n",
        "    facies_colors=facies_colors)\n",
        "\n",
        "#plt.savefig(\"drive/My Drive/seminar/crawford.png\", dpi=400)"
      ],
      "execution_count": null,
      "outputs": [
        {
          "output_type": "display_data",
          "data": {
            "image/png": "[encoded data removed]",
            "text/plain": [
              "<Figure size 864x432 with 7 Axes>"
            ]
          },
          "metadata": {
            "tags": [],
            "needs_background": "light"
          }
        },
        {
          "output_type": "display_data",
          "data": {
            "image/png": "[encoded data removed]",
            "text/plain": [
              "<Figure size 864x432 with 7 Axes>"
            ]
          },
          "metadata": {
            "tags": [],
            "needs_background": "light"
          }
        }
      ]
    },
    {
      "cell_type": "code",
      "metadata": {
        "id": "YJXKnrveRixq"
      },
      "source": [
        "#well_data.to_csv('drive/My Drive/seminar/predict_facies.csv')"
      ],
      "execution_count": null,
      "outputs": []
    },
    {
      "cell_type": "code",
      "metadata": {
        "id": "l5gPEjwZShPw"
      },
      "source": [],
      "execution_count": null,
      "outputs": []
    }
  ]
}